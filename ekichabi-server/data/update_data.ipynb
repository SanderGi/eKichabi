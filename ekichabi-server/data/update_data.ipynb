{
 "cells": [
  {
   "cell_type": "code",
   "execution_count": null,
   "metadata": {},
   "outputs": [],
   "source": [
    "import pandas as pd"
   ]
  },
  {
   "cell_type": "code",
   "execution_count": null,
   "metadata": {},
   "outputs": [],
   "source": [
    "df = pd.read_csv('census_data_trimmed.csv')\n",
    "df.head()"
   ]
  },
  {
   "cell_type": "code",
   "execution_count": null,
   "metadata": {},
   "outputs": [],
   "source": [
    "updates = pd.read_csv('wtp_phonebook_update.csv')\n",
    "updates.head()"
   ]
  },
  {
   "cell_type": "code",
   "execution_count": null,
   "metadata": {},
   "outputs": [],
   "source": [
    "whitelist = pd.read_csv('whitelist_pretty.csv').drop(columns=['Unnamed: 0'])\n",
    "whitelist.head()"
   ]
  },
  {
   "cell_type": "code",
   "execution_count": null,
   "metadata": {},
   "outputs": [],
   "source": [
    "set(updates.columns) & set(df.columns)"
   ]
  },
  {
   "cell_type": "code",
   "execution_count": null,
   "metadata": {},
   "outputs": [],
   "source": [
    "set(updates.columns) - set(df.columns)"
   ]
  },
  {
   "cell_type": "code",
   "execution_count": null,
   "metadata": {},
   "outputs": [],
   "source": [
    "set(df.columns) - set(updates.columns)"
   ]
  },
  {
   "cell_type": "code",
   "execution_count": null,
   "metadata": {},
   "outputs": [],
   "source": [
    "update_cols = ['village', 'ownername', 'subsector_swa']\n",
    "df_cols = ['kijiji', 'ownername', 'subsector_swa_1']"
   ]
  },
  {
   "cell_type": "code",
   "execution_count": null,
   "metadata": {},
   "outputs": [],
   "source": [
    "updates[update_cols]"
   ]
  },
  {
   "cell_type": "code",
   "execution_count": null,
   "metadata": {},
   "outputs": [],
   "source": [
    "updates[update_cols].duplicated().sum()"
   ]
  },
  {
   "cell_type": "code",
   "execution_count": null,
   "metadata": {},
   "outputs": [],
   "source": [
    "df[df_cols]"
   ]
  },
  {
   "cell_type": "code",
   "execution_count": null,
   "metadata": {},
   "outputs": [],
   "source": [
    "df[df[df_cols].duplicated() | df[df_cols].duplicated(keep='last')][['firm_name'] + df_cols].sort_values(by=df_cols)"
   ]
  },
  {
   "cell_type": "code",
   "execution_count": null,
   "metadata": {},
   "outputs": [],
   "source": [
    "update_ids = updates[update_cols[0]].apply(lambda x: x.strip().lower())\n",
    "for col in update_cols[1:]:\n",
    "    update_ids += updates[col].apply(lambda x: x.strip().lower())\n",
    "    \n",
    "print(update_ids.duplicated().sum())\n",
    "print(update_ids)"
   ]
  },
  {
   "cell_type": "code",
   "execution_count": null,
   "metadata": {},
   "outputs": [],
   "source": [
    "df_ids = df[df_cols[0]].apply(lambda x: x.strip().lower() if pd.notna(x) else x)\n",
    "for col in df_cols[1:]:\n",
    "    df_ids += df[col].apply(lambda x: x.strip().lower() if pd.notna(x) else x)\n",
    "\n",
    "print(df_ids.duplicated().sum())\n",
    "print(df_ids)"
   ]
  },
  {
   "cell_type": "code",
   "execution_count": null,
   "metadata": {},
   "outputs": [],
   "source": [
    "set(update_ids) & set(df_ids)"
   ]
  },
  {
   "cell_type": "code",
   "execution_count": null,
   "metadata": {},
   "outputs": [],
   "source": [
    "df[df_ids.isin(update_ids)].duplicated().sum()"
   ]
  },
  {
   "cell_type": "code",
   "execution_count": null,
   "metadata": {},
   "outputs": [],
   "source": [
    "new_firms = updates[updates['census_firm'] == 0]\n",
    "new_firms"
   ]
  },
  {
   "cell_type": "code",
   "execution_count": null,
   "metadata": {},
   "outputs": [],
   "source": [
    "modified_firms = updates[updates['census_firm'] == 1]\n",
    "modified_firms"
   ]
  },
  {
   "cell_type": "code",
   "execution_count": null,
   "metadata": {},
   "outputs": [],
   "source": [
    "def id_from_cols(df, cols):\n",
    "    ids = df[cols[0]].apply(lambda x: x.strip().lower() if pd.notna(x) else x)\n",
    "    for col in cols[1:]:\n",
    "        ids += df[col].apply(lambda x: x.strip().lower() if pd.notna(x) else x)\n",
    "    return ids\n",
    "    # return df[cols].apply(lambda x: hash(tuple(x)), axis=1)"
   ]
  },
  {
   "cell_type": "code",
   "execution_count": null,
   "metadata": {},
   "outputs": [],
   "source": [
    "df['merge_id'] = id_from_cols(df, df_cols)"
   ]
  },
  {
   "cell_type": "code",
   "execution_count": null,
   "metadata": {},
   "outputs": [],
   "source": [
    "modified_firms['merge_id'] = id_from_cols(modified_firms, update_cols)"
   ]
  },
  {
   "cell_type": "code",
   "execution_count": null,
   "metadata": {},
   "outputs": [],
   "source": [
    "modified_firms['firm_name_noncensus'].value_counts()"
   ]
  },
  {
   "cell_type": "code",
   "execution_count": null,
   "metadata": {},
   "outputs": [],
   "source": [
    "modified_firms['new_number'].value_counts()"
   ]
  },
  {
   "cell_type": "code",
   "execution_count": null,
   "metadata": {},
   "outputs": [],
   "source": [
    "set(modified_firms['merge_id'].values) - set(df['merge_id'].values)"
   ]
  },
  {
   "cell_type": "code",
   "execution_count": null,
   "metadata": {},
   "outputs": [],
   "source": [
    "modified_firms[modified_firms['merge_id'] == 'bugombeabera kabale titoduka la bidhaa tofauti'][['ownername', 'firm_name', 'village', 'subsector_swa', 'subsector_swa_eng', 'census_firm']]"
   ]
  },
  {
   "cell_type": "code",
   "execution_count": null,
   "metadata": {},
   "outputs": [],
   "source": [
    "df[(df['kijiji'] == 'Bugombe') & (df['ownername'] == 'Abera Kabale Tito')][['firm_name', 'mobile_number1', 'mobile_number2', 'subsector_swa_1', 'kijiji', 'ownername']]"
   ]
  },
  {
   "cell_type": "code",
   "execution_count": null,
   "metadata": {},
   "outputs": [],
   "source": [
    "modified_firms = modified_firms.drop(columns=['census_firm', 'firm_id_census', 'mobile_census1', 'mobile_census2','subsector_swa_eng','firm_name_noncensus','ownername'])\n",
    "modified_firms = modified_firms.rename(columns={'mobile_final1': 'mobile_number1', 'mobile_final2': 'mobile_number2', 'subsector_swa': 'subsector_swa_1', 'subector_eng': 'subsector_eng_1', 'village': 'kijiji', 'ownername_new': 'ownername'})\n",
    "\n",
    "modified_firms['sim_1'] = modified_firms['sim_2'] = \"Vodacom\"\n",
    "modified_firms.loc[modified_firms['mobile_number2'].isna(), 'sim_2'] = pd.NA"
   ]
  },
  {
   "cell_type": "code",
   "execution_count": null,
   "metadata": {},
   "outputs": [],
   "source": [
    "for id, row in modified_firms.iterrows():\n",
    "    merge_id = row['merge_id']\n",
    "    is_new_number = row['new_number']\n",
    "    row = row.drop('merge_id').drop('new_number')\n",
    "    \n",
    "    if not is_new_number:\n",
    "        row.drop('mobile_number1').drop('mobile_number2').drop('sim_1').drop('sim_2')\n",
    "\n",
    "    assert merge_id in df['merge_id'].values\n",
    "\n",
    "    # drop na values from the row\n",
    "    row = row.dropna()\n",
    "    \n",
    "    # overwrite the row in df with the new data\n",
    "    df.loc[df['merge_id'] == merge_id, row.index] = row"
   ]
  }
 ],
 "metadata": {
  "kernelspec": {
   "display_name": "Python 3",
   "language": "python",
   "name": "python3"
  },
  "language_info": {
   "codemirror_mode": {
    "name": "ipython",
    "version": 3
   },
   "file_extension": ".py",
   "mimetype": "text/x-python",
   "name": "python",
   "nbconvert_exporter": "python",
   "pygments_lexer": "ipython3",
   "version": "3.10.6"
  }
 },
 "nbformat": 4,
 "nbformat_minor": 2
}
