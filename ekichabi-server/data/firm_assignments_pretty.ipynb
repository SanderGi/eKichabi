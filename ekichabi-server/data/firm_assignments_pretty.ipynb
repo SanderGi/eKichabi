{
 "cells": [
  {
   "cell_type": "code",
   "execution_count": null,
   "metadata": {},
   "outputs": [],
   "source": [
    "import pandas as pd\n",
    "import numpy as np\n",
    "import random"
   ]
  },
  {
   "cell_type": "code",
   "execution_count": null,
   "metadata": {},
   "outputs": [],
   "source": [
    "random.seed(\"eKichabi\")"
   ]
  },
  {
   "cell_type": "markdown",
   "metadata": {},
   "source": [
    "# Load Data"
   ]
  },
  {
   "cell_type": "code",
   "execution_count": null,
   "metadata": {},
   "outputs": [],
   "source": [
    "# firm census for comparison\n",
    "df_census = pd.read_csv(\"./census_data_trimmed.csv\")\n",
    "unique_census_numbers = pd.concat([df_census['mobile_number1'], df_census['mobile_number2']], ignore_index=True).dropna().astype('int64').unique()"
   ]
  },
  {
   "cell_type": "code",
   "execution_count": null,
   "metadata": {},
   "outputs": [],
   "source": [
    "# firm whitelist assignments\n",
    "df = pd.read_csv(\"./firm_visibility_assignments.csv\")\n",
    "df = df.astype({'mobile_number1': pd.Int64Dtype(), 'mobile_number2': pd.Int64Dtype()})"
   ]
  },
  {
   "cell_type": "code",
   "execution_count": null,
   "metadata": {},
   "outputs": [],
   "source": [
    "# drop firms/rows with no phone number\n",
    "df_nums = df[df[\"mobile_number1\"].notna()]"
   ]
  },
  {
   "cell_type": "code",
   "execution_count": null,
   "metadata": {},
   "outputs": [],
   "source": [
    "unique_numbers = pd.concat([df_nums['mobile_number1'], df_nums['mobile_number2']], ignore_index=True).dropna().astype('int64').unique()"
   ]
  },
  {
   "cell_type": "markdown",
   "metadata": {},
   "source": [
    "## General Stats"
   ]
  },
  {
   "cell_type": "code",
   "execution_count": null,
   "metadata": {},
   "outputs": [],
   "source": [
    "# number of firms\n",
    "num_firms = df.shape[0]\n",
    "num_firms"
   ]
  },
  {
   "cell_type": "code",
   "execution_count": null,
   "metadata": {},
   "outputs": [],
   "source": [
    "# number of census firms\n",
    "df_census.drop_duplicates().shape[0]"
   ]
  },
  {
   "cell_type": "code",
   "execution_count": null,
   "metadata": {},
   "outputs": [],
   "source": [
    "# numbers in firm assignments not in census\n",
    "[number for number in unique_numbers if number not in unique_census_numbers]"
   ]
  },
  {
   "cell_type": "code",
   "execution_count": null,
   "metadata": {},
   "outputs": [],
   "source": [
    "# numbers in census not in firm assignments\n",
    "[number for number in unique_census_numbers if number not in unique_numbers]"
   ]
  },
  {
   "cell_type": "code",
   "execution_count": null,
   "metadata": {},
   "outputs": [],
   "source": [
    "# number of unique phone numbers\n",
    "len(unique_numbers)"
   ]
  },
  {
   "cell_type": "code",
   "execution_count": null,
   "metadata": {},
   "outputs": [],
   "source": [
    "# number of unique census numbers\n",
    "len(unique_census_numbers)"
   ]
  },
  {
   "cell_type": "code",
   "execution_count": null,
   "metadata": {},
   "outputs": [],
   "source": [
    "# number of firms without a phone number\n",
    "num_no_num = df[df[\"mobile_number1\"].isna()].shape[0]\n",
    "num_no_num"
   ]
  },
  {
   "cell_type": "code",
   "execution_count": null,
   "metadata": {},
   "outputs": [],
   "source": [
    "# number of firms to whitelist/assign\n",
    "num_firms_to_whitelist = df.shape[0] - df[df[\"mobile_number1\"].isna()].shape[0]\n",
    "num_firms_to_whitelist"
   ]
  },
  {
   "cell_type": "markdown",
   "metadata": {},
   "source": [
    "# Reassign Firms"
   ]
  },
  {
   "cell_type": "code",
   "execution_count": null,
   "metadata": {},
   "outputs": [],
   "source": [
    "# find groups of numbers that appear together\n",
    "appears_together = {}\n",
    "for i, row in df_nums.iterrows():\n",
    "    if not pd.isna(row[\"mobile_number2\"]):\n",
    "        n1 = row[\"mobile_number1\"]\n",
    "        n2 = row[\"mobile_number2\"]\n",
    "        if n1 not in appears_together.keys():\n",
    "            appears_together[n1] = set()\n",
    "        appears_together[n1].add(n2)\n",
    "        if n2 not in appears_together.keys():\n",
    "            appears_together[n2] = set()\n",
    "        appears_together[n2].add(n1)"
   ]
  },
  {
   "cell_type": "code",
   "execution_count": null,
   "metadata": {},
   "outputs": [],
   "source": [
    "# assign groups\n",
    "group_assignments = {}\n",
    "\n",
    "lucky_groups = set()\n",
    "\n",
    "num_overlapping_groups = 0\n",
    "for k, v in appears_together.items():\n",
    "    choices = []\n",
    "    choices += (list(df_nums[df_nums[\"mobile_number1\"] == k][\"owner_names_visible\"]))\n",
    "    for i in v:\n",
    "        choices += (list(df_nums[df_nums[\"mobile_number1\"] == i][\"owner_names_visible\"]))\n",
    "\n",
    "    if len(choices) == 1:\n",
    "        continue\n",
    "\n",
    "    unique_choices = set(choices)\n",
    "    if len(unique_choices) == 1:\n",
    "        for i in v:\n",
    "            lucky_groups.add(i)\n",
    "        lucky_groups.add(k)\n",
    "        continue\n",
    "    \n",
    "    num_overlapping_groups += 1\n",
    "    selection = random.choice(list(unique_choices))\n",
    "    for i in v:\n",
    "        group_assignments[i] = selection\n",
    "    group_assignments[k] = selection"
   ]
  },
  {
   "cell_type": "code",
   "execution_count": null,
   "metadata": {},
   "outputs": [],
   "source": [
    "# fix group conflicts\n",
    "conflicts_fixed = []\n",
    "reason = []\n",
    "for i, row in df_nums.iterrows():\n",
    "    n1 = row[\"mobile_number1\"]\n",
    "    if n1 in group_assignments.keys():\n",
    "        conflicts_fixed.append(group_assignments[n1])\n",
    "        reason.append(\"group conflict\")\n",
    "    else:\n",
    "        conflicts_fixed.append(pd.NA)\n",
    "        reason.append(\"\")\n",
    "\n",
    "df_nums = df_nums.assign(conflicts_fixed = conflicts_fixed, reason =  reason)"
   ]
  },
  {
   "cell_type": "code",
   "execution_count": null,
   "metadata": {},
   "outputs": [],
   "source": [
    "# annotate lucky groups\n",
    "df_nums.loc[df_nums['mobile_number1'].isin(lucky_groups) | df_nums['mobile_number2'].isin(lucky_groups), \"reason\"] = \"lucky group\""
   ]
  },
  {
   "cell_type": "code",
   "execution_count": null,
   "metadata": {},
   "outputs": [],
   "source": [
    "# re-assign duplicates that are not part of any groups\n",
    "for number in df_nums[df_nums.duplicated(subset=\"mobile_number1\")]['mobile_number1']:\n",
    "    if any(list(df_nums.loc[df_nums['mobile_number1'] == number,'reason'])):\n",
    "        continue\n",
    "    df_nums.loc[df_nums['mobile_number1'] == number, 'conflicts_fixed'] = random.choice(list(set(df_nums[df_nums['mobile_number1'] == number]['owner_names_visible'])))\n",
    "    df_nums.loc[df_nums['mobile_number1'] == number, 'reason'] += (\"duplicate phone #\")"
   ]
  },
  {
   "cell_type": "markdown",
   "metadata": {},
   "source": [
    "## Group reassignment stats"
   ]
  },
  {
   "cell_type": "code",
   "execution_count": null,
   "metadata": {},
   "outputs": [],
   "source": [
    "# reassigned firms by reason\n",
    "df_nums[\"reason\"].value_counts()"
   ]
  },
  {
   "cell_type": "code",
   "execution_count": null,
   "metadata": {},
   "outputs": [],
   "source": [
    "# number of groups of 3\n",
    "num_groups_of_three = sum([1 for val in appears_together.values() if len(val) >= 2])\n",
    "num_groups_of_three"
   ]
  },
  {
   "cell_type": "code",
   "execution_count": null,
   "metadata": {},
   "outputs": [],
   "source": [
    "# number of groups\n",
    "(len(appears_together) - num_groups_of_three) // 2"
   ]
  },
  {
   "cell_type": "code",
   "execution_count": null,
   "metadata": {},
   "outputs": [],
   "source": [
    "# number of groups with conflicts\n",
    "num_overlapping_groups"
   ]
  },
  {
   "cell_type": "code",
   "execution_count": null,
   "metadata": {},
   "outputs": [],
   "source": [
    "# number of groups with potential conflicts\n",
    "num_overlapping_groups + len(lucky_groups)"
   ]
  },
  {
   "cell_type": "code",
   "execution_count": null,
   "metadata": {},
   "outputs": [],
   "source": [
    "# number of firms with potential conflict\n",
    "gr = df_nums[(df_nums['reason'] == 'group conflict') | (df_nums['reason'] == 'lucky group')]\n",
    "len(gr)"
   ]
  },
  {
   "cell_type": "code",
   "execution_count": null,
   "metadata": {},
   "outputs": [],
   "source": [
    "# number of phone numbers with conflict or got lucky (i.e. potential conflict)\n",
    "len(set(pd.concat([gr[~gr[\"mobile_number2\"].isna()][\"mobile_number2\"], gr[\"mobile_number1\"]])))"
   ]
  },
  {
   "cell_type": "code",
   "execution_count": null,
   "metadata": {},
   "outputs": [],
   "source": [
    "# number of groups with exactly 3 numbers\n",
    "groups_with_three_numbers = dict()\n",
    "for k, v in appears_together.items():\n",
    "    if len(v) < 2:\n",
    "        continue\n",
    "    groups_with_three_numbers[k] = v\n",
    "len(groups_with_three_numbers)    "
   ]
  },
  {
   "cell_type": "code",
   "execution_count": null,
   "metadata": {},
   "outputs": [],
   "source": [
    "# number of unique phone numbers from the groups with exactly 3 numbers\n",
    "groups_with_three_numbers_phone_numbers = set()\n",
    "for k, v in groups_with_three_numbers.items():\n",
    "    groups_with_three_numbers_phone_numbers.add(k)\n",
    "    for nb in v:\n",
    "        groups_with_three_numbers_phone_numbers.add(nb)\n",
    "len(groups_with_three_numbers_phone_numbers)"
   ]
  },
  {
   "cell_type": "code",
   "execution_count": null,
   "metadata": {},
   "outputs": [],
   "source": [
    "# number of firms part of the groups of exactly 3 numbers\n",
    "f = set()\n",
    "for i in groups_with_three_numbers_phone_numbers:\n",
    "    for t in df_nums[(df_nums[\"mobile_number1\"] == i) | (df_nums[\"mobile_number2\"] == i)]['firmID']:\n",
    "        f.add(t)\n",
    "len(f)"
   ]
  },
  {
   "cell_type": "code",
   "execution_count": null,
   "metadata": {},
   "outputs": [],
   "source": [
    "# number of numbers in duplicated firms not part of any groups\n",
    "df_nums[df_nums['reason'] == 'duplicate phone #']['mobile_number1'].nunique()"
   ]
  },
  {
   "cell_type": "code",
   "execution_count": null,
   "metadata": {},
   "outputs": [],
   "source": [
    "# number of duplicated phone numbers\n",
    "total_numbers = pd.concat([df_nums[~df_nums[\"mobile_number2\"].isna()][\"mobile_number2\"], df_nums[\"mobile_number1\"]])\n",
    "len(total_numbers) - len(unique_numbers)"
   ]
  },
  {
   "cell_type": "code",
   "execution_count": null,
   "metadata": {},
   "outputs": [],
   "source": [
    "# number of firms with duplicated numbers (including any reason)\n",
    "duplicated_numbers = total_numbers[total_numbers.duplicated()]\n",
    "len(df_nums[(df_nums[\"mobile_number1\"].isin(duplicated_numbers) | df_nums[\"mobile_number2\"].isin(duplicated_numbers))])"
   ]
  },
  {
   "cell_type": "code",
   "execution_count": null,
   "metadata": {},
   "outputs": [],
   "source": [
    "# numbers that are duplicated but not because of a potential group conflict\n",
    "len(df_nums[(~df_nums[\"reason\"].isin(['group conflict', 'lucky group'])) & (df_nums[\"mobile_number1\"].isin(duplicated_numbers) | df_nums[\"mobile_number2\"].isin(duplicated_numbers))])"
   ]
  },
  {
   "cell_type": "markdown",
   "metadata": {},
   "source": [
    "^ this matches the number we got by reassigning which is good\n",
    "\n",
    "also, 917 - 808 = 109 potential group conflicts and we are accounting for all of them!"
   ]
  },
  {
   "cell_type": "markdown",
   "metadata": {},
   "source": [
    "### Examples of reassignments"
   ]
  },
  {
   "cell_type": "code",
   "execution_count": null,
   "metadata": {},
   "outputs": [],
   "source": [
    "# random example of group conflict (appears with 2 or 3 unique numbers any amount of times, or with one number but that number appears with another number)\n",
    "groupConflicts = df_nums[df_nums[\"reason\"] == \"group conflict\"]\n",
    "random_number = random.choice(list(pd.concat([groupConflicts['mobile_number1'], groupConflicts['mobile_number2']]).dropna().unique()))\n",
    "numbers_in_group = pd.Series(df_nums[(df_nums['mobile_number1'] == random_number) | (df_nums['mobile_number2'] == random_number)][['mobile_number1', 'mobile_number2']].values.ravel()).dropna()\n",
    "df_nums[(df_nums['mobile_number1'].isin(numbers_in_group)) | (df_nums['mobile_number2'].isin(numbers_in_group))]"
   ]
  },
  {
   "cell_type": "code",
   "execution_count": null,
   "metadata": {},
   "outputs": [],
   "source": [
    "# random example of a lucky group (could have a conflict but didn't)\n",
    "luckies = df_nums[df_nums[\"reason\"] == \"lucky group\"]\n",
    "random_number = random.choice(list(pd.concat([luckies['mobile_number1'], luckies['mobile_number2']]).dropna().unique()))\n",
    "numbers_in_group = pd.Series(df_nums[(df_nums['mobile_number1'] == random_number) | (df_nums['mobile_number2'] == random_number)][['mobile_number1', 'mobile_number2']].values.ravel()).dropna()\n",
    "df_nums[(df_nums['mobile_number1'].isin(numbers_in_group)) | (df_nums['mobile_number2'].isin(numbers_in_group))]"
   ]
  },
  {
   "cell_type": "code",
   "execution_count": null,
   "metadata": {},
   "outputs": [],
   "source": [
    "# random example of duplicate not in group\n",
    "groupConflicts = df_nums[df_nums[\"reason\"] == \"duplicate phone #\"]\n",
    "random_number = random.choice(list(pd.concat([groupConflicts['mobile_number1'], groupConflicts['mobile_number2']]).dropna().unique()))\n",
    "# should not be any other numbers than random_number:\n",
    "numbers_in_group = pd.Series(df_nums[(df_nums['mobile_number1'] == random_number) | (df_nums['mobile_number2'] == random_number)][['mobile_number1', 'mobile_number2']].values.ravel()).dropna()\n",
    "df_nums[(df_nums['mobile_number1'].isin(numbers_in_group)) | (df_nums['mobile_number2'].isin(numbers_in_group))]"
   ]
  },
  {
   "cell_type": "code",
   "execution_count": null,
   "metadata": {},
   "outputs": [],
   "source": [
    "# groups with 3 numbers\n",
    "groups_with_three_numbers"
   ]
  },
  {
   "cell_type": "markdown",
   "metadata": {},
   "source": [
    "# Save Reassignments"
   ]
  },
  {
   "cell_type": "code",
   "execution_count": null,
   "metadata": {},
   "outputs": [],
   "source": [
    "df_nums.to_csv('./firm_reassignments.csv', index=False)"
   ]
  },
  {
   "cell_type": "code",
   "execution_count": null,
   "metadata": {},
   "outputs": [],
   "source": [
    "# turn into AB testing format and save\n",
    "AB_formatted = df_nums.copy(True)\n",
    "AB_formatted['conflicts_fixed'] = AB_formatted['conflicts_fixed'].fillna(df_nums['owner_names_visible'])\n",
    "AB_formatted = AB_formatted.rename(columns={'conflicts_fixed': 'group'})\n",
    "AB_formatted = AB_formatted[['mobile_number1', 'mobile_number2', 'group']].replace(to_replace={'group': {1: 'A', 0: 'B'}})\n",
    "AB_formatted.to_csv('./AB_test_groups.csv', index=False)"
   ]
  },
  {
   "cell_type": "code",
   "execution_count": null,
   "metadata": {},
   "outputs": [],
   "source": [
    "# create anonymous version of census_data_trimmed.csv\n",
    "census = pd.read_csv('census_data_trimmed.csv')\n",
    "census.head()"
   ]
  },
  {
   "cell_type": "code",
   "execution_count": null,
   "metadata": {},
   "outputs": [],
   "source": [
    "census['ownername'] = 'mtu asiyejulikana'"
   ]
  },
  {
   "cell_type": "code",
   "execution_count": null,
   "metadata": {},
   "outputs": [],
   "source": [
    "census.to_csv('census_data_anonymous.csv', index=False)"
   ]
  }
 ],
 "metadata": {
  "kernelspec": {
   "display_name": "Python 3.10.6 64-bit",
   "language": "python",
   "name": "python3"
  },
  "language_info": {
   "codemirror_mode": {
    "name": "ipython",
    "version": 3
   },
   "file_extension": ".py",
   "mimetype": "text/x-python",
   "name": "python",
   "nbconvert_exporter": "python",
   "pygments_lexer": "ipython3",
   "version": "3.10.6"
  },
  "orig_nbformat": 4,
  "vscode": {
   "interpreter": {
    "hash": "aee8b7b246df8f9039afb4144a1f6fd8d2ca17a180786b69acc140d282b71a49"
   }
  }
 },
 "nbformat": 4,
 "nbformat_minor": 2
}
