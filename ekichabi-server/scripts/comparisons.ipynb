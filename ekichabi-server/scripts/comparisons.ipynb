{
 "cells": [
  {
   "cell_type": "code",
   "execution_count": null,
   "metadata": {},
   "outputs": [],
   "source": [
    "import pandas as pd\n",
    "import csv\n",
    "import copy\n",
    "from datetime import datetime, timedelta\n",
    "from zipfile import ZipFile\n",
    "from typing import Tuple, Union\n",
    "import matplotlib.pyplot as plt\n",
    "import numpy as np"
   ]
  },
  {
   "cell_type": "code",
   "execution_count": null,
   "metadata": {},
   "outputs": [],
   "source": [
    "import sys\n",
    "import os\n",
    "sys.path.append(os.path.dirname(os.getcwd())) # hack to get relative imports beyond the current package"
   ]
  },
  {
   "cell_type": "code",
   "execution_count": null,
   "metadata": {},
   "outputs": [],
   "source": [
    "from ekichabi.services.android.utils import standard_format\n",
    "# from ekichabi.whitelist.GetWhiteList import populate_whitelist_for_admins\n",
    "def populate_whitelist_for_admins(set):\n",
    "    # demo number for internal testing\n",
    "    set.add(standard_format('255000000000'))"
   ]
  },
  {
   "cell_type": "code",
   "execution_count": null,
   "metadata": {},
   "outputs": [],
   "source": [
    "# load whitelist\n",
    "whitelist = {}\n",
    "with open('../data/whitelisting_info.csv', 'r') as csvfile:\n",
    "    # creating a csv reader object\n",
    "    csvreader = csv.reader(csvfile)\n",
    "\n",
    "    # ignore first row - which contains field names\n",
    "    next(csvreader)\n",
    "\n",
    "    # extracting phone number(s) out of each row\n",
    "    for row in csvreader:\n",
    "        date = datetime.strptime(row[-1], '%Y-%d-%b')\n",
    "        if date not in whitelist:\n",
    "            whitelist[date] = set()\n",
    "        if str(row[2]):\n",
    "            whitelist[date].add(standard_format(str(row[2])))  # number1\n",
    "        if str(row[3]):\n",
    "            whitelist[date].add(standard_format(str(row[3])))  # number2\n",
    "print(whitelist.keys())\n",
    "totalwhitelist = set.union(*whitelist.values())\n",
    "print(len(totalwhitelist))"
   ]
  },
  {
   "cell_type": "code",
   "execution_count": null,
   "metadata": {},
   "outputs": [],
   "source": [
    "missingwhitelist = set()\n",
    "with open('../data/whitelist12-12.csv', 'r') as csvfile:\n",
    "    # creating a csv reader object\n",
    "    csvreader = csv.reader(csvfile)\n",
    "\n",
    "    # extracting phone number(s) out of each row\n",
    "    for row in csvreader:\n",
    "        missingwhitelist.add(standard_format(str(row[0])))\n",
    "len(missingwhitelist)"
   ]
  },
  {
   "cell_type": "code",
   "execution_count": null,
   "metadata": {},
   "outputs": [],
   "source": [
    "# load Census Survey information\n",
    "survey_df = pd.read_csv('../data/census_survey.csv')\n",
    "survey_df['phone_number'] = survey_df['phone_number'].apply(lambda x: standard_format(str(x)))\n",
    "survey_df.head()"
   ]
  },
  {
   "cell_type": "code",
   "execution_count": null,
   "metadata": {},
   "outputs": [],
   "source": [
    "survey_df['phone_number'].nunique()"
   ]
  },
  {
   "cell_type": "code",
   "execution_count": null,
   "metadata": {},
   "outputs": [],
   "source": [
    "survey_df.info()"
   ]
  },
  {
   "cell_type": "code",
   "execution_count": null,
   "metadata": {},
   "outputs": [],
   "source": [
    "# load enumerators\n",
    "enumerators = set()\n",
    "with open('../data/Enumerator.csv', 'r') as csvfile:\n",
    "    # creating a csv reader object\n",
    "    csvreader = csv.reader(csvfile)\n",
    "\n",
    "    # ignore header\n",
    "    next(csvreader)\n",
    "\n",
    "    # extracting phone number out of each row\n",
    "    for row in csvreader:\n",
    "        enumerators.add(standard_format(str(row[2])))  # number1\n",
    "print(enumerators)"
   ]
  },
  {
   "cell_type": "code",
   "execution_count": null,
   "metadata": {},
   "outputs": [],
   "source": [
    "# load testers and admins\n",
    "testers = set()\n",
    "populate_whitelist_for_admins(testers)\n",
    "print(testers)"
   ]
  },
  {
   "cell_type": "code",
   "execution_count": null,
   "metadata": {},
   "outputs": [],
   "source": [
    "# load wakala intervention group\n",
    "wakalagroup = set()\n",
    "with open('../data/Wakala.csv', 'r') as csvfile:\n",
    "    # creating a csv reader object\n",
    "    csvreader = csv.reader(csvfile)\n",
    "\n",
    "    # extracting phone number out of each row\n",
    "    for row in csvreader:\n",
    "        wakalagroup.add(standard_format(str(row[1])))  # number1\n",
    "print(wakalagroup)"
   ]
  },
  {
   "cell_type": "code",
   "execution_count": null,
   "metadata": {},
   "outputs": [],
   "source": [
    "# load business group\n",
    "cutoffdate = datetime.strptime('2022-7-Dec', '%Y-%d-%b')\n",
    "businessgroup = set()\n",
    "with open('../data/census_data_trimmed.csv', 'r') as csvfile:\n",
    "    # creating a csv reader object\n",
    "    csvreader = csv.reader(csvfile)\n",
    "\n",
    "    # ignore first row - which contains field names\n",
    "    next(csvreader)\n",
    "\n",
    "    # extracting phone number out of each row\n",
    "    for row in csvreader:\n",
    "        businessgroup.add(standard_format(str(row[17])))  # number1\n",
    "        businessgroup.add(standard_format(str(row[18])))  # number2\n",
    "businessgroup.remove(\"\")\n",
    "len(businessgroup)"
   ]
  },
  {
   "cell_type": "code",
   "execution_count": null,
   "metadata": {},
   "outputs": [],
   "source": [
    "df28 = pd.read_csv(\"./whitelisted_hh_phone_nums_28Nov2022 (2).csv\")\n",
    "df28[\"date\"] = \"2022-28-Nov\"\n",
    "df12 = pd.read_csv(\"./whitelisted_hh_phone_nums_asof12.12 (1).csv\")\n",
    "df12[\"date\"] = \"2022-12-Dec\"\n",
    "df23 = pd.read_csv(\"./whitelisted_hh_phone_nums_23Nov2022 (2).csv\")\n",
    "df23[\"date\"] = \"2022-23-Nov\"\n",
    "df06 = pd.read_csv(\"./whitelisted_hh_phone_nums_06Dec2022 (2).csv\")\n",
    "df06[\"date\"] = \"2022-6-Dec\"\n",
    "df = pd.concat([df23, df28, df06, df12], ignore_index=True)\n",
    "df_drop = df.drop_duplicates(subset=[\"dir_phn1\"], keep='first').drop(['digital','hhID'], axis=1)"
   ]
  },
  {
   "cell_type": "code",
   "execution_count": null,
   "metadata": {},
   "outputs": [],
   "source": [
    "df_drop['source'] = 'WHITELIST_CSV'"
   ]
  },
  {
   "cell_type": "code",
   "execution_count": null,
   "metadata": {},
   "outputs": [],
   "source": [
    "df23"
   ]
  },
  {
   "cell_type": "code",
   "execution_count": null,
   "metadata": {},
   "outputs": [],
   "source": [
    "missing = # SECRET"
   ]
  },
  {
   "cell_type": "code",
   "execution_count": null,
   "metadata": {},
   "outputs": [],
   "source": [
    "missing['source'] = \"EXTRA_FROM_BASELINE\"\n",
    "missing['date'] = \"2023-10-Mar\""
   ]
  },
  {
   "cell_type": "code",
   "execution_count": null,
   "metadata": {},
   "outputs": [],
   "source": [
    "missing"
   ]
  },
  {
   "cell_type": "code",
   "execution_count": null,
   "metadata": {},
   "outputs": [],
   "source": [
    "admin = pd.DataFrame(set.union(enumerators, testers), columns=['dir_phn1'])\n",
    "admin['source'] = \"ENUMERATORS_AND_TESTERS\"\n",
    "admin['date'] = \"2022-Nov-10\"\n",
    "admin"
   ]
  },
  {
   "cell_type": "code",
   "execution_count": null,
   "metadata": {},
   "outputs": [],
   "source": [
    "waka = pd.DataFrame(wakalagroup, columns=['dir_phn1'])\n",
    "waka['source'] = \"WAKALAS\"\n",
    "waka['date'] = \"2022-16-Nov\"\n",
    "waka"
   ]
  },
  {
   "cell_type": "code",
   "execution_count": null,
   "metadata": {},
   "outputs": [],
   "source": [
    "pd.concat([admin, df_drop, missing, waka], ignore_index=True).drop_duplicates(subset=[\"dir_phn1\"], keep='first').to_csv('whitelist_pretty')"
   ]
  },
  {
   "cell_type": "code",
   "execution_count": null,
   "metadata": {},
   "outputs": [],
   "source": [
    "df_drop['date'].unique()"
   ]
  },
  {
   "cell_type": "code",
   "execution_count": null,
   "metadata": {},
   "outputs": [],
   "source": [
    "combined_whitelist = set.union(*[key for key in whitelist.values()][1:-2], missingwhitelist)\n",
    "len(combined_whitelist)"
   ]
  },
  {
   "cell_type": "code",
   "execution_count": null,
   "metadata": {},
   "outputs": [],
   "source": [
    "len(testers)"
   ]
  },
  {
   "cell_type": "code",
   "execution_count": null,
   "metadata": {},
   "outputs": [],
   "source": [
    "len(set.difference(combined_whitelist, survey_df['phone_number']))"
   ]
  },
  {
   "cell_type": "code",
   "execution_count": null,
   "metadata": {},
   "outputs": [],
   "source": [
    "len(set.union(combined_whitelist, survey_df['phone_number']))"
   ]
  },
  {
   "cell_type": "code",
   "execution_count": null,
   "metadata": {},
   "outputs": [],
   "source": [
    "len(combined_whitelist & set(survey_df['phone_number']))"
   ]
  },
  {
   "cell_type": "code",
   "execution_count": null,
   "metadata": {},
   "outputs": [],
   "source": [
    "l = [number for number in set(survey_df['phone_number']) if number not in set.union(totalwhitelist, combined_whitelist, missingwhitelist) if number not in enumerators and number not in testers]\n",
    "l"
   ]
  },
  {
   "cell_type": "code",
   "execution_count": null,
   "metadata": {},
   "outputs": [],
   "source": [
    "survey_df[survey_df['phone_number'].isin(l)].nunique()"
   ]
  },
  {
   "cell_type": "code",
   "execution_count": null,
   "metadata": {},
   "outputs": [],
   "source": [
    "len(set([number for number in combined_whitelist if number not in set(survey_df['phone_number']) if number not in enumerators and number not in testers]))"
   ]
  },
  {
   "cell_type": "code",
   "execution_count": null,
   "metadata": {},
   "outputs": [],
   "source": [
    "len(set(survey_df['phone_number']).difference(combined_whitelist))"
   ]
  },
  {
   "cell_type": "code",
   "execution_count": null,
   "metadata": {},
   "outputs": [],
   "source": [
    "def wasWhitelisted(number: str, date: datetime) -> bool:\n",
    "    number = standard_format(number)\n",
    "    if number in testers or number in enumerators:\n",
    "        return False\n",
    "    if date <= cutoffdate and number in businessgroup:\n",
    "        return True\n",
    "    for d, l in whitelist.items():\n",
    "        if d > date:\n",
    "            return False\n",
    "        if number in l:\n",
    "            return True\n",
    "    return False"
   ]
  },
  {
   "cell_type": "code",
   "execution_count": null,
   "metadata": {},
   "outputs": [],
   "source": [
    "# load log data\n",
    "def parseLine(line: bytes) -> Tuple[datetime, str, Union[str, bool]]:\n",
    "    line = line.decode().strip()\n",
    "    columns = line.split('\\t')\n",
    "    t = datetime.strptime(columns[0], '[%H:%M:%S.%f]')\n",
    "    time = startTime + timedelta(hours=t.hour, minutes=t.minute, seconds=t.second, microseconds=t.microsecond)\n",
    "    action = columns[1]\n",
    "    details = columns[3] if len(columns) > 3 else False\n",
    "    return time, action, details\n",
    "\n",
    "def initRow(number, startTime):\n",
    "    return {'phone_number': number, 'session_start': startTime, 'session_end': pd.NaT, 'duration': pd.NaT,'inputs': \"\", \n",
    "        'group': 'non-whitelisted' if (not wasWhitelisted(number, startTime)) else 'wakalagroup' if number in wakalagroup else 'business' if number in businessgroup else 'household', \n",
    "        'businesses_visited': 0, 'businesses': [], 'searches': 0, 'filter_location': 0, 'helper_instruction': 0, 'category_browse': 0, 'location_browse': 0, 'exit': 0, 'home': 0, 'back': 0}\n",
    "\n",
    "df = pd.DataFrame(columns=initRow('000000000', 0).keys())\n",
    "with ZipFile('../logsArchive/all_ussd.zip', 'r') as archive:\n",
    "    for name in archive.namelist(): # name = [phone_number]_[Year]-[month]-[day]-[Hour].[Minute].[Second]\n",
    "        parts = name.split('_')\n",
    "        number = standard_format(parts[0])\n",
    "        print(name)\n",
    "        print(parts[1].replace('.log', ''))\n",
    "        startTime = datetime.strptime(parts[1].replace('.log', ''), '%Y-%m-%d-%H.%M.%S')\n",
    "        # if not wasWhitelisted(number, startTime):\n",
    "        #     continue\n",
    "        if number in testers or number in enumerators:\n",
    "            continue\n",
    "        row = initRow(number, startTime)\n",
    "        isHome = True\n",
    "        path = []\n",
    "        with archive.open(name) as file:\n",
    "            file.readline() # ignore session info\n",
    "            line = file.readline() # ignore column headers\n",
    "            # line = file.readline() # ignore first home screen\n",
    "\n",
    "            def handleReadLine():\n",
    "                global line\n",
    "                global row\n",
    "                global isHome\n",
    "                global path\n",
    "                line = file.readline()\n",
    "                if not line:\n",
    "                    return \"\", \"\", \"\"\n",
    "                time, action, details = parseLine(line)\n",
    "                row['session_end'] = time\n",
    "                row['duration'] = time - startTime\n",
    "                if action == 'INPUT RECEIVED':\n",
    "                    row['inputs'] += (\",\" if len(row['inputs']) != 0 else \"\") + details.strip(\"'\")\n",
    "                elif action == 'RENDERED SCREEN' and details == 'SearchSelectorScreen':\n",
    "                    row['searches'] += 1\n",
    "                elif action == 'RENDERED SCREEN' and details == 'IfFilterBYLocationScreen':\n",
    "                    row['filter_location'] += 1\n",
    "                elif action == 'RENDERED SCREEN' and details == 'HelpScreen':\n",
    "                    row['helper_instruction'] += 1\n",
    "                elif isHome and action == 'RENDERED SCREEN' and details == 'MenuHierarchyScreen - selecting a category':\n",
    "                    row['category_browse'] += 1\n",
    "                elif isHome and action == 'RENDERED SCREEN' and details == 'MenuHierarchyScreen - selecting a district':\n",
    "                    row['category_browse'] += 1\n",
    "                elif action == 'RENDERED SCREEN' and details and details.startswith('BusinessDetailsScreen'):\n",
    "                    row['businesses_visited'] += 1\n",
    "                    duration = pd.NaT\n",
    "                    next_line = file.peek()\n",
    "                    if next_line:\n",
    "                        next_time, _, _ = parseLine(next_line)\n",
    "                        duration = next_time - time\n",
    "                    business = {'id': details.split(' - for ')[1], 'duration': duration,'path': copy.copy(path)}\n",
    "                    row['businesses'].append(business)\n",
    "                if action == 'RENDERED SCREEN':\n",
    "                    path.append(details)\n",
    "                    isHome = False\n",
    "                return time, action, details\n",
    "\n",
    "            while line:\n",
    "                time, action, details = handleReadLine()\n",
    "                if not line: break\n",
    "                if action == 'BACK PRESSED': # BACK PRESSED + RENDERED SCREEN (back button -- 99)\n",
    "                    row['back'] += 1\n",
    "                    _, _, details = handleReadLine()\n",
    "                    isHome = details == 'HomeScreen'\n",
    "                    if isHome:\n",
    "                        path = []\n",
    "                elif action == 'HOME PRESSED': # HOME PRESSED + RENDERED SCREEN (home button -- 100)\n",
    "                    row['home'] += 1\n",
    "                    handleReadLine()\n",
    "                    isHome = True\n",
    "                    path = []\n",
    "                elif action == 'EXIT PRESSED': # EXIT PRESSED + RENDERED SCREEN (session end button -- 109)\n",
    "                    row['exit'] += 1\n",
    "                    handleReadLine()\n",
    "        df = pd.concat([df, pd.DataFrame(row.values(), index=row.keys()).T], ignore_index=True)\n",
    "        # break\n",
    "\n",
    "    print(len(archive.namelist()))\n",
    "pd.set_option('display.max_colwidth', None)\n",
    "df.head()"
   ]
  },
  {
   "cell_type": "code",
   "execution_count": null,
   "metadata": {},
   "outputs": [],
   "source": [
    "df.info()"
   ]
  },
  {
   "cell_type": "code",
   "execution_count": null,
   "metadata": {},
   "outputs": [],
   "source": [
    "def categorizeGroup(number):\n",
    "    return 'wakalagroup' if number in wakalagroup else 'business' if number in businessgroup else 'household' "
   ]
  },
  {
   "cell_type": "code",
   "execution_count": null,
   "metadata": {},
   "outputs": [],
   "source": [
    "df.loc[df['group'] == 'non-whitelisted']['phone_number'].nunique()"
   ]
  },
  {
   "cell_type": "code",
   "execution_count": null,
   "metadata": {},
   "outputs": [],
   "source": [
    "len(set(df.loc[df['group'] == 'non-whitelisted']['phone_number']) & set.union(*whitelist.values()))"
   ]
  },
  {
   "cell_type": "code",
   "execution_count": null,
   "metadata": {},
   "outputs": [],
   "source": [
    "df.loc[~pd.isnull(df['session_end']) & (df['inputs'] != \"\") & (df['group'] == \"non-whitelisted\")].sort_values(by='session_end')"
   ]
  },
  {
   "cell_type": "code",
   "execution_count": null,
   "metadata": {},
   "outputs": [],
   "source": [
    "with ZipFile('../logsArchive/all_ussd.zip', 'r') as archive:\n",
    "    print(archive.read('SECRET_2023-01-24-05.09.05.log'))"
   ]
  },
  {
   "cell_type": "code",
   "execution_count": null,
   "metadata": {},
   "outputs": [],
   "source": [
    "def label_function(val):\n",
    "    return f'{val:.0f}\\n{val / len(df) * 100:.0f}%'\n",
    "\n",
    "groups = df.loc[~(df['group'] == \"non-whitelisted\")].groupby('group').size()\n",
    "patches, texts = plt.pie(groups, textprops={'fontsize': 20}, colors=['tomato', 'gold', 'skyblue'])\n",
    "labels = [group + \"-\" + label_function(val) for val, group in zip(groups, ['business', 'household', 'wakalagroup'])]\n",
    "plt.legend(patches, labels, loc='center left', bbox_to_anchor=(-0.1, 1.), fontsize=8)\n",
    "plt.title(\"Distribution of sessions\")"
   ]
  },
  {
   "cell_type": "code",
   "execution_count": null,
   "metadata": {},
   "outputs": [],
   "source": [
    "groups = df.loc[~(df['group'] == \"non-whitelisted\")].groupby('group')['phone_number'].nunique()\n",
    "patches, texts = plt.pie(groups, textprops={'fontsize': 20}, colors=['tomato', 'gold', 'skyblue'])\n",
    "labels = [group + \"-\" + label_function(val) for val, group in zip(groups, ['business', 'household', 'wakalagroup'])]\n",
    "plt.legend(patches, labels, loc='center left', bbox_to_anchor=(-0.1, 1.), fontsize=8)\n",
    "plt.title(\"Distribution of numbers\")"
   ]
  },
  {
   "cell_type": "code",
   "execution_count": null,
   "metadata": {},
   "outputs": [],
   "source": [
    "groups = df.loc[~(df['group'] == \"non-whitelisted\")].groupby('group').size() / df.loc[~(df['group'] == \"non-whitelisted\")].groupby('group')['phone_number'].nunique()\n",
    "patches, texts = plt.pie(groups, textprops={'fontsize': 20}, colors=['tomato', 'gold', 'skyblue'])\n",
    "labels = [group + \"-\" + label_function(val) for val, group in zip(groups, ['business', 'household', 'wakalagroup'])]\n",
    "plt.legend(patches, labels, loc='center left', bbox_to_anchor=(-0.1, 1.), fontsize=8)\n",
    "plt.title(\"Distribution of Sessions/Number\")"
   ]
  },
  {
   "cell_type": "code",
   "execution_count": null,
   "metadata": {},
   "outputs": [],
   "source": [
    "(df.groupby(['group', 'searches']).size() / df.groupby('group').size()).unstack().plot(kind='bar', stacked=True)"
   ]
  },
  {
   "cell_type": "code",
   "execution_count": null,
   "metadata": {},
   "outputs": [],
   "source": [
    "(df.groupby(['group', 'businesses_visited']).size() / df.groupby('group').size()).unstack().plot(kind='bar', stacked=True)"
   ]
  },
  {
   "cell_type": "code",
   "execution_count": null,
   "metadata": {},
   "outputs": [],
   "source": [
    "(df.groupby(['group', 'category_browse']).size() / df.groupby('group').size()).unstack().plot(kind='bar', stacked=True)"
   ]
  },
  {
   "cell_type": "code",
   "execution_count": null,
   "metadata": {},
   "outputs": [],
   "source": [
    "(df.groupby(['group', 'location_browse']).size() / df.groupby('group').size()).unstack().plot(kind='bar', stacked=True)"
   ]
  },
  {
   "cell_type": "code",
   "execution_count": null,
   "metadata": {},
   "outputs": [],
   "source": [
    "(df.groupby(['group', 'back']).size() / df.groupby('group').size()).unstack().plot(kind='bar', stacked=True)"
   ]
  },
  {
   "cell_type": "code",
   "execution_count": null,
   "metadata": {},
   "outputs": [],
   "source": [
    "(df.groupby(['group', 'exit']).size() / df.groupby('group').size()).unstack().plot(kind='bar', stacked=True)"
   ]
  },
  {
   "cell_type": "code",
   "execution_count": null,
   "metadata": {},
   "outputs": [],
   "source": [
    "(df.groupby(['group', 'home']).size() / df.groupby('group').size()).unstack().plot(kind='bar', stacked=True)"
   ]
  },
  {
   "cell_type": "code",
   "execution_count": null,
   "metadata": {},
   "outputs": [],
   "source": [
    "(df.groupby(['group', 'filter_location']).size() / df.groupby('group').size()).unstack().plot(kind='bar', stacked=True)"
   ]
  },
  {
   "cell_type": "code",
   "execution_count": null,
   "metadata": {},
   "outputs": [],
   "source": [
    "df['duration'] = df['session_end'] - df['session_start']\n",
    "df['duration'] = df['duration'].astype('timedelta64[s]')\n",
    "fig, ax = plt.subplots(figsize=(8,5))\n",
    "for label, df1 in df.groupby('group'):\n",
    "     df1.duration.plot(kind=\"kde\", ax=ax, label=label)\n",
    "ax.set_xlabel(\"Session Duration (seconds)\")\n",
    "ax.set_xlim(0, 800)\n",
    "ax.legend(loc=\"upper left\")"
   ]
  },
  {
   "cell_type": "code",
   "execution_count": null,
   "metadata": {},
   "outputs": [],
   "source": [
    "# sessions per phone number\n",
    "df.groupby('group').size() / df.groupby('group')['phone_number'].nunique()"
   ]
  },
  {
   "cell_type": "code",
   "execution_count": null,
   "metadata": {},
   "outputs": [],
   "source": [
    "df['time_after'] = (df['session_start'] - datetime(2022,11,1,0,0)) / np.timedelta64(1,'D')\n",
    "fig, ax = plt.subplots(figsize=(8,5))\n",
    "for label, df1 in df.groupby('group'):\n",
    "     df1.time_after.plot(kind=\"kde\", ax=ax, label=label)\n",
    "ax.set_xlabel(\"Session start date after November 1st\")\n",
    "ax.set_xlim(0, 290)\n",
    "ax.legend(loc=\"upper left\")"
   ]
  }
 ],
 "metadata": {
  "interpreter": {
   "hash": "2c6a3c1f82f2d97f5dd19e390665d8f10456fd25783f78a74cfafd29ce855322"
  },
  "kernelspec": {
   "display_name": "Python 3.9.13 64-bit ('ekichabi': conda)",
   "name": "python3"
  },
  "language_info": {
   "codemirror_mode": {
    "name": "ipython",
    "version": 3
   },
   "file_extension": ".py",
   "mimetype": "text/x-python",
   "name": "python",
   "nbconvert_exporter": "python",
   "pygments_lexer": "ipython3",
   "version": "3.10.6"
  },
  "orig_nbformat": 4,
  "vscode": {
   "interpreter": {
    "hash": "aee8b7b246df8f9039afb4144a1f6fd8d2ca17a180786b69acc140d282b71a49"
   }
  }
 },
 "nbformat": 4,
 "nbformat_minor": 2
}
