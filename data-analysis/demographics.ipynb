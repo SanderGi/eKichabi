{
 "cells": [
  {
   "cell_type": "code",
   "execution_count": null,
   "metadata": {},
   "outputs": [],
   "source": [
    "import pandas as pd\n",
    "import matplotlib.pyplot as plt\n",
    "import matplotlib.ticker as mtick\n",
    "import pandas as pd\n",
    "import csv\n",
    "import copy\n",
    "from datetime import datetime, timedelta\n",
    "from zipfile import ZipFile\n",
    "from typing import Tuple, Union\n",
    "import numpy as np\n",
    "import base64\n",
    "import itertools\n",
    "import re"
   ]
  },
  {
   "cell_type": "code",
   "execution_count": null,
   "metadata": {},
   "outputs": [],
   "source": [
    "df_survey = pd.read_csv('census_survey.csv')\n",
    "df_survey.head()"
   ]
  },
  {
   "cell_type": "code",
   "execution_count": null,
   "metadata": {},
   "outputs": [],
   "source": [
    "df_demographics = pd.read_csv('demographics.csv')\n",
    "df_demographics.head()"
   ]
  },
  {
   "cell_type": "code",
   "execution_count": null,
   "metadata": {},
   "outputs": [],
   "source": [
    "# use pandas to remove NaN phone_numbers from df_demographics\n",
    "df_demographics = df_demographics.dropna(subset=['phone_number'])\n",
    "df_demographics.head()"
   ]
  },
  {
   "cell_type": "code",
   "execution_count": null,
   "metadata": {},
   "outputs": [],
   "source": [
    "# use pandas to merge df_survey and df_demographics on phone_number\n",
    "df_merged = pd.merge(df_survey, df_demographics, on='phone_number')\n",
    "df_merged.head()"
   ]
  },
  {
   "cell_type": "code",
   "execution_count": null,
   "metadata": {},
   "outputs": [],
   "source": [
    "# rename comfort_with_ussd column values to be shorter\n",
    "df_merged['comfort_with_ussd'] = df_merged['comfort_with_ussd'].replace({\n",
    "    \"Very Comfortable--I can use USSD without help from anyone\": \"1. Very Comfortable\",\n",
    "    \"Somewhat comfortable--I may ask for help sometimes\": \"2. Somewhat Comfortable\",\n",
    "    \"Not very comfortable--I need help over 50% of the time\": \"3. Not Comfortable\",\n",
    "    \"Uncomfortable--I always ask someone else to navigate the menus on my behalf\": \"4. Very Uncomfortable\"\n",
    "})"
   ]
  },
  {
   "cell_type": "code",
   "execution_count": null,
   "metadata": {},
   "outputs": [],
   "source": [
    "df_whitelist = pd.read_csv('../ekichabi-ussd/data/whitelist_pretty.csv').drop(columns=['Unnamed: 0']).rename(columns={\"dir_phn1\": 'phone_number'})\n",
    "df_whitelist.head()"
   ]
  },
  {
   "cell_type": "code",
   "execution_count": null,
   "metadata": {},
   "outputs": [],
   "source": [
    "# use pandas to merge df_merged and df_whitelist on phone_number\n",
    "df_merged = pd.merge(df_merged, df_whitelist, on='phone_number')\n",
    "df_merged.head()"
   ]
  },
  {
   "cell_type": "code",
   "execution_count": null,
   "metadata": {},
   "outputs": [],
   "source": [
    "df_merged.info()"
   ]
  },
  {
   "cell_type": "code",
   "execution_count": null,
   "metadata": {},
   "outputs": [],
   "source": [
    "# describe numerical and categorical columns except for phone_number, hhID, phn1, phn2\n",
    "df_merged[[col for col in df_merged.columns if col not in [\"phone_number\", \"hhID\", \"phn1\", \"phn2\"]]].describe(include='all')"
   ]
  },
  {
   "cell_type": "code",
   "execution_count": null,
   "metadata": {},
   "outputs": [],
   "source": [
    "df_merged = df_merged[df_merged[\"source\"] == \"WHITELIST_CSV\"]"
   ]
  },
  {
   "cell_type": "code",
   "execution_count": null,
   "metadata": {},
   "outputs": [],
   "source": [
    "df_logs = pd.read_csv('logs.csv').drop(columns=['Unnamed: 0', 'Unnamed: 0.1']).dropna(subset=['phone_number'])\n",
    "df_logs['phone_number'] = df_logs['phone_number'].astype('int64')\n",
    "df_logs.info()"
   ]
  },
  {
   "cell_type": "code",
   "execution_count": null,
   "metadata": {},
   "outputs": [],
   "source": [
    "df_whitelist[\"phone_number\"]"
   ]
  },
  {
   "cell_type": "code",
   "execution_count": null,
   "metadata": {},
   "outputs": [],
   "source": [
    "df_logs[\"phone_number\"]"
   ]
  },
  {
   "cell_type": "code",
   "execution_count": null,
   "metadata": {},
   "outputs": [],
   "source": [
    "numbers = set(df_whitelist[\"phone_number\"])"
   ]
  },
  {
   "cell_type": "code",
   "execution_count": null,
   "metadata": {},
   "outputs": [],
   "source": [
    "len([1 for number in df_logs[\"phone_number\"] if number in numbers])"
   ]
  },
  {
   "cell_type": "code",
   "execution_count": null,
   "metadata": {},
   "outputs": [],
   "source": [
    "# group by phone_number and sum duration and businesses_visited while adding an extra column for number of entries summed\n",
    "df_logs['sessions'] = 1\n",
    "df_logs = df_logs.groupby('phone_number').agg({'sessions': 'sum', 'duration': 'sum', 'businesses_visited': 'sum', 'category_browse': 'sum', 'searches': 'sum'}).reset_index()\n",
    "df_logs.info()"
   ]
  },
  {
   "cell_type": "code",
   "execution_count": null,
   "metadata": {},
   "outputs": [],
   "source": [
    "df_logs['sessions'].value_counts()"
   ]
  },
  {
   "cell_type": "code",
   "execution_count": null,
   "metadata": {},
   "outputs": [],
   "source": [
    "# use pandas to merge df_merged and df_logs on phone_number\n",
    "df_hh_users = pd.merge(df_merged, df_logs, on='phone_number')\n",
    "df_hh_users.head()"
   ]
  },
  {
   "cell_type": "code",
   "execution_count": null,
   "metadata": {},
   "outputs": [],
   "source": [
    "df_hh_users.info()"
   ]
  },
  {
   "attachments": {},
   "cell_type": "markdown",
   "metadata": {},
   "source": [
    "# Analysis"
   ]
  },
  {
   "cell_type": "code",
   "execution_count": null,
   "metadata": {},
   "outputs": [],
   "source": [
    "# print value counts for each column except phone_number, phn1, phn2, hhID\n",
    "for col in df_merged.columns:\n",
    "    if col not in ['phone_number', 'phn1', 'phn2', 'hhID']:\n",
    "        print('=====' + col + '=====')\n",
    "        print(df_merged[col].value_counts())\n",
    "        print()"
   ]
  },
  {
   "cell_type": "code",
   "execution_count": null,
   "metadata": {},
   "outputs": [],
   "source": [
    "# plot the distribution of age\n",
    "fig, ax = plt.subplots(figsize=(10, 5))\n",
    "df_merged['age'].hist(bins=20, ax=ax)\n",
    "ax.set_title('Distribution of Age')\n",
    "ax.set_xlabel('Age')\n",
    "ax.set_ylabel('Count')\n",
    "plt.show()"
   ]
  },
  {
   "cell_type": "code",
   "execution_count": null,
   "metadata": {},
   "outputs": [],
   "source": [
    "# plot distribution of gender using hoh_gender_lb and a pie chart\n",
    "fig, ax = plt.subplots(figsize=(10, 5))\n",
    "df_merged['hoh_gender_lb'].value_counts().plot(kind='pie', ax=ax)"
   ]
  },
  {
   "cell_type": "code",
   "execution_count": null,
   "metadata": {},
   "outputs": [],
   "source": [
    "# create age_groups and plot distribution of age_groups in a bar chart, sort age axis ascending\n",
    "df_merged['age_group'] = pd.cut(df_merged['age'], bins=[0, 18, 25, 35, 45, 55, 65, 100])\n",
    "fig, ax = plt.subplots(figsize=(10, 5))\n",
    "df_merged['age_group'].value_counts().sort_index().plot(kind='bar', ax=ax)\n"
   ]
  },
  {
   "cell_type": "code",
   "execution_count": null,
   "metadata": {},
   "outputs": [],
   "source": [
    "# stacked bar chart of age distribution by gender\n",
    "temp = df_merged.groupby(['age_group', 'hoh_gender_lb'])['age_group'].count().unstack('hoh_gender_lb').fillna(0)\n",
    "display(temp)\n",
    "temp[df_merged['hoh_gender_lb'].unique()].sort_index().plot(kind='bar', stacked=True)\n",
    "plt.title(\"Gender vs Age Group\")"
   ]
  },
  {
   "cell_type": "code",
   "execution_count": null,
   "metadata": {},
   "outputs": [],
   "source": [
    "def remove_nan(arr):\n",
    "    return arr[~pd.isnull(arr)]"
   ]
  },
  {
   "cell_type": "code",
   "execution_count": null,
   "metadata": {},
   "outputs": [],
   "source": [
    "# stacked bar chart of age distribution by comfort_with_ussd\n",
    "temp = df_merged.groupby(['age_group', 'comfort_with_ussd'])['age_group'].count().unstack('comfort_with_ussd').fillna(0)\n",
    "display(temp)\n",
    "temp[remove_nan(df_merged['comfort_with_ussd'].unique())].plot(kind='bar', stacked=True)\n",
    "plt.title(\"Comfort with USSD vs Age Group\")"
   ]
  },
  {
   "cell_type": "code",
   "execution_count": null,
   "metadata": {},
   "outputs": [],
   "source": [
    "# density plot to compare distribution of age with comfort_with_ussd\n",
    "fig, ax = plt.subplots(figsize=(10, 5))\n",
    "for comfort in remove_nan(df_merged['comfort_with_ussd'].unique()):\n",
    "    df_merged[df_merged['comfort_with_ussd'] == comfort]['age'].plot(kind='density', ax=ax, label=comfort)\n",
    "ax.legend(loc=\"upper left\", bbox_to_anchor=(0.6,1), ncol=1)\n",
    "ax.set_title('Distribution of Age by Comfort with USSD')\n",
    "ax.set_xlabel('Age')\n",
    "ax.set_ylabel('Density')\n",
    "plt.show()"
   ]
  },
  {
   "cell_type": "code",
   "execution_count": null,
   "metadata": {},
   "outputs": [],
   "source": [
    "# stacked bar chart of comfort_with_ussd by gender\n",
    "temp = df_merged.groupby(['comfort_with_ussd', 'gender'])['comfort_with_ussd'].count().unstack('gender').fillna(0)\n",
    "display(temp)\n",
    "temp[remove_nan(df_merged['gender'].unique())].plot(kind='bar', stacked=True)\n",
    "plt.title(\"Comfort with USSD vs Gender\")"
   ]
  },
  {
   "cell_type": "code",
   "execution_count": null,
   "metadata": {},
   "outputs": [],
   "source": [
    "# stacked barchart of comfort_with_ussd by district_label\n",
    "temp = df_merged.groupby(['comfort_with_ussd', 'district_label'])['comfort_with_ussd'].count().unstack('district_label').fillna(0)\n",
    "display(temp)\n",
    "temp[remove_nan(df_merged['district_label'].unique())].plot(kind='bar', stacked=True)\n",
    "plt.title(\"Comfort with USSD vs District\")"
   ]
  },
  {
   "cell_type": "code",
   "execution_count": null,
   "metadata": {},
   "outputs": [],
   "source": [
    "# stacked barchart of district_label by comfort_with_ussd\n",
    "temp = df_merged.groupby(['district_label', 'comfort_with_ussd'])['district_label'].count().unstack('comfort_with_ussd').fillna(0)\n",
    "display(temp)\n",
    "temp[remove_nan(df_merged['comfort_with_ussd'].unique())].apply(lambda x: x/x.sum(), axis=1).plot(kind='bar', stacked=True)\n",
    "plt.title(\"District vs Comfort with USSD\")"
   ]
  },
  {
   "cell_type": "code",
   "execution_count": null,
   "metadata": {},
   "outputs": [],
   "source": [
    "# Bukoba\t73\t35\t9\t37\n",
    "print(\"Bukoba Average Comfort: \" + str((73 * 1 + 35 * 2 + 9 * 3 + 37 * 4) / (73 + 35 + 9 + 37)))\n",
    "# Karagwe\t73\t55\t38\t12\n",
    "print(\"Karagwe Average Comfort: \" + str((73 * 1 + 55 * 2 + 38 * 3 + 12 * 4) / (73 + 55 + 38 + 12)))\n",
    "# Kyerwa\t74\t59\t18\t19\n",
    "print(\"Kyerwa Average Comfort: \" + str((74 * 1 + 59 * 2 + 18 * 3 + 19 * 4) / (74 + 59 + 18 + 19)))\n",
    "# Missenyi\t39\t24\t5\t15\n",
    "print(\"Missenyi Average Comfort: \" + str((39 * 1 + 24 * 2 + 5 * 3 + 15 * 4) / (39 + 24 + 5 + 15)))\n",
    "# Muleba\t68\t32\t12\t10\n",
    "print(\"Muleba Average Comfort: \" + str((68 * 1 + 32 * 2 + 12 * 3 + 10 * 4) / (68 + 32 + 12 + 10)))"
   ]
  },
  {
   "cell_type": "code",
   "execution_count": null,
   "metadata": {},
   "outputs": [],
   "source": [
    "# standard deviations\n",
    "print(\"Bukoba Standard Deviation: \" + str(np.std([1] * 73 + [2] * 35 + [3] * 9 + [4] * 37)))\n",
    "print(\"Karagwe Standard Deviation: \" + str(np.std([1] * 73 + [2] * 55 + [3] * 38 + [4] * 12)))\n",
    "print(\"Kyerwa Standard Deviation: \" + str(np.std([1] * 74 + [2] * 59 + [3] * 18 + [4] * 19)))\n",
    "print(\"Missenyi Standard Deviation: \" + str(np.std([1] * 39 + [2] * 24 + [3] * 5 + [4] * 15)))\n",
    "print(\"Muleba Standard Deviation: \" + str(np.std([1] * 68 + [2] * 32 + [3] * 12 + [4] * 10)))"
   ]
  },
  {
   "cell_type": "code",
   "execution_count": null,
   "metadata": {},
   "outputs": [],
   "source": [
    "from scipy import stats\n",
    "def anova(df, col1, col2):\n",
    "    f_val, p_val = stats.f_oneway(*[r for r in [np.concatenate([[i + 1] * int(v[i]) for i in range(4)]) for v in df.groupby([col1, col2])[col1].count().unstack(col2).fillna(0).values] if len(r) > 0])\n",
    "    print(\"ANOVA results for \" + col1 + \" and \" + col2)\n",
    "    print(\"One-way ANOVA P =\", p_val)"
   ]
  },
  {
   "cell_type": "code",
   "execution_count": null,
   "metadata": {},
   "outputs": [],
   "source": [
    "# significance test that average comfort with USSD is the same across districts\n",
    "# H0: average comfort with USSD is the same across districts\n",
    "# H1: average comfort with USSD is not the same across districts\n",
    "anova(df_merged, 'district_label', 'comfort_with_ussd')"
   ]
  },
  {
   "cell_type": "code",
   "execution_count": null,
   "metadata": {},
   "outputs": [],
   "source": [
    "# significance test that average comfort with USSD is the same across age groups\n",
    "# H0: average comfort with USSD is the same across age groups\n",
    "# H1: average comfort with USSD is not the same across age groups\n",
    "anova(df_merged, 'age_group', 'comfort_with_ussd')"
   ]
  },
  {
   "cell_type": "code",
   "execution_count": null,
   "metadata": {},
   "outputs": [],
   "source": [
    "# significance test that average comfort with USSD is the same across genders\n",
    "# H0: average comfort with USSD is the same across genders\n",
    "# H1: average comfort with USSD is not the same across genders\n",
    "anova(df_merged, 'hoh_gender_lb', 'comfort_with_ussd')"
   ]
  },
  {
   "cell_type": "code",
   "execution_count": null,
   "metadata": {},
   "outputs": [],
   "source": [
    "# significance test that average comfort with USSD is the same across whitelist dates\n",
    "# H0: average comfort with USSD is the same across whitelist dates\n",
    "# H1: average comfort with USSD is not the same across whitelist dates\n",
    "anova(df_merged, 'date', 'comfort_with_ussd')"
   ]
  },
  {
   "cell_type": "code",
   "execution_count": null,
   "metadata": {},
   "outputs": [],
   "source": [
    "df_hh_users.head()"
   ]
  },
  {
   "cell_type": "code",
   "execution_count": null,
   "metadata": {},
   "outputs": [],
   "source": [
    "df_hh = df_merged.copy()\n",
    "df_hh['sessions'] = 0\n",
    "df_hh['duration'] = 0\n",
    "df_hh['businesses_visited'] = 0\n",
    "df_hh['category_browse'] = 0\n",
    "df_hh['searches'] = 0\n",
    "df_hh.head()"
   ]
  },
  {
   "cell_type": "code",
   "execution_count": null,
   "metadata": {},
   "outputs": [],
   "source": [
    "# overwrite df_hh with values in df_hh_users if the phone_number is in df_hh_users\n",
    "for index, row in df_hh_users.iterrows():\n",
    "    df_hh.loc[df_hh['phone_number'] == row['phone_number'], 'sessions'] = row['sessions']\n",
    "    df_hh.loc[df_hh['phone_number'] == row['phone_number'], 'duration'] = row['duration']\n",
    "    df_hh.loc[df_hh['phone_number'] == row['phone_number'], 'businesses_visited'] = row['businesses_visited']\n",
    "    df_hh.loc[df_hh['phone_number'] == row['phone_number'], 'category_browse'] = row['category_browse']\n",
    "    df_hh.loc[df_hh['phone_number'] == row['phone_number'], 'searches'] = row['searches']\n",
    "df_hh.head()"
   ]
  },
  {
   "cell_type": "code",
   "execution_count": null,
   "metadata": {},
   "outputs": [],
   "source": [
    "anova(df_hh, 'sessions', 'comfort_with_ussd')"
   ]
  },
  {
   "cell_type": "code",
   "execution_count": null,
   "metadata": {},
   "outputs": [],
   "source": [
    "anova(df_hh, 'duration', 'comfort_with_ussd')"
   ]
  },
  {
   "cell_type": "code",
   "execution_count": null,
   "metadata": {},
   "outputs": [],
   "source": [
    "anova(df_hh, 'businesses_visited', 'comfort_with_ussd')"
   ]
  },
  {
   "cell_type": "code",
   "execution_count": null,
   "metadata": {},
   "outputs": [],
   "source": [
    "df_hh['average_duration'] = df_hh['duration'].apply(lambda v: 0 if not isinstance(v, str) else (datetime.strptime(v[7:22], '%H:%M:%S.%f').timestamp() - datetime(1900, 1, 1).timestamp())) / df_hh['sessions']\n",
    "df_hh['average_duration'].fillna(-1, inplace=True)\n",
    "anova(df_hh, 'average_duration', 'comfort_with_ussd')"
   ]
  },
  {
   "cell_type": "code",
   "execution_count": null,
   "metadata": {},
   "outputs": [],
   "source": [
    "# stacked barchart of number of businesses visited by comfort_with_ussd\n",
    "temp = df_hh.groupby(['businesses_visited', 'comfort_with_ussd'])['businesses_visited'].count().unstack('comfort_with_ussd').fillna(0)\n",
    "display(temp)\n",
    "temp[remove_nan(df_hh['comfort_with_ussd'].unique())].apply(lambda x: x/x.sum(), axis=1).plot(kind='bar', stacked=True)\n",
    "plt.title(\"Number of Businesses Visited vs Comfort with USSD\")"
   ]
  },
  {
   "cell_type": "code",
   "execution_count": null,
   "metadata": {},
   "outputs": [],
   "source": [
    "# stacked barchart of age_group by businesses_visited\n",
    "temp = df_hh.groupby(['age_group', 'businesses_visited'])['age_group'].count().unstack('businesses_visited').fillna(0)\n",
    "display(temp)\n",
    "temp[remove_nan(df_hh['businesses_visited'].unique())].apply(lambda x: x/x.sum(), axis=1).plot(kind='bar', stacked=True)\n",
    "plt.title(\"Age Group vs Number of Businesses Visited\")"
   ]
  },
  {
   "cell_type": "code",
   "execution_count": null,
   "metadata": {},
   "outputs": [],
   "source": [
    "# stacked barchart of businesses_visited by district_label\n",
    "temp = df_hh.groupby(['businesses_visited', 'district_label'])['businesses_visited'].count().unstack('district_label').fillna(0)\n",
    "display(temp)\n",
    "temp[remove_nan(df_hh['district_label'].unique())].apply(lambda x: x/x.sum(), axis=1).plot(kind='bar', stacked=True)\n",
    "plt.title(\"Number of Businesses Visited vs District\")"
   ]
  },
  {
   "cell_type": "code",
   "execution_count": null,
   "metadata": {},
   "outputs": [],
   "source": [
    "# stacked barchart of businesses_visited by hoh_gender_lb\n",
    "temp = df_hh.groupby(['businesses_visited', 'hoh_gender_lb'])['businesses_visited'].count().unstack('hoh_gender_lb').fillna(0)\n",
    "display(temp)\n",
    "temp[remove_nan(df_hh['hoh_gender_lb'].unique())].apply(lambda x: x/x.sum(), axis=1).plot(kind='bar', stacked=True)\n",
    "plt.title(\"Number of Businesses Visited vs Gender\")"
   ]
  },
  {
   "cell_type": "code",
   "execution_count": null,
   "metadata": {},
   "outputs": [],
   "source": [
    "anova(df_hh, 'businesses_visited', 'district_label')"
   ]
  },
  {
   "cell_type": "code",
   "execution_count": null,
   "metadata": {},
   "outputs": [],
   "source": [
    "anova(df_hh, 'businesses_visited', 'age_group')"
   ]
  },
  {
   "cell_type": "code",
   "execution_count": null,
   "metadata": {},
   "outputs": [],
   "source": [
    "anova(df_hh, 'businesses_visited', 'comfort_with_ussd')"
   ]
  },
  {
   "cell_type": "code",
   "execution_count": null,
   "metadata": {},
   "outputs": [],
   "source": [
    "anova(df_hh, 'hoh_gender_lb', 'businesses_visited')"
   ]
  },
  {
   "cell_type": "code",
   "execution_count": null,
   "metadata": {},
   "outputs": [],
   "source": [
    "anova(df_hh, 'businesses_visited', 'duration')"
   ]
  },
  {
   "cell_type": "code",
   "execution_count": null,
   "metadata": {},
   "outputs": [],
   "source": [
    "anova(df_hh, 'businesses_visited', 'sessions')"
   ]
  },
  {
   "cell_type": "code",
   "execution_count": null,
   "metadata": {},
   "outputs": [],
   "source": [
    "anova(df_hh, 'businesses_visited', 'date')"
   ]
  },
  {
   "cell_type": "code",
   "execution_count": null,
   "metadata": {},
   "outputs": [],
   "source": [
    "df_hh[df_hh[\"hoh_gender_lb\"] == \"Male-headed\"].describe(include='all')"
   ]
  },
  {
   "cell_type": "code",
   "execution_count": null,
   "metadata": {},
   "outputs": [],
   "source": [
    "df_hh[df_hh[\"hoh_gender_lb\"] == \"Female-headed\"].describe(include='all')"
   ]
  },
  {
   "cell_type": "code",
   "execution_count": null,
   "metadata": {},
   "outputs": [],
   "source": [
    "df_hh[(df_hh[\"hoh_gender_lb\"] == \"Male-headed\") & (df_hh[\"businesses_visited\"] > 9)][\"businesses_visited\"].std()"
   ]
  },
  {
   "cell_type": "code",
   "execution_count": null,
   "metadata": {},
   "outputs": [],
   "source": [
    "df_hh[(df_hh[\"hoh_gender_lb\"] == \"Male-headed\") & (df_hh[\"businesses_visited\"] < 9)][\"businesses_visited\"].std()"
   ]
  },
  {
   "cell_type": "code",
   "execution_count": null,
   "metadata": {},
   "outputs": [],
   "source": [
    "df_hh.value_counts('comfort_with_ussd')"
   ]
  },
  {
   "cell_type": "code",
   "execution_count": null,
   "metadata": {},
   "outputs": [],
   "source": [
    "df_234 = df_hh[df_hh[\"comfort_with_ussd\"] != \"1. Very Comfortable\"]"
   ]
  },
  {
   "cell_type": "code",
   "execution_count": null,
   "metadata": {},
   "outputs": [],
   "source": [
    "df_234.info()"
   ]
  },
  {
   "cell_type": "code",
   "execution_count": null,
   "metadata": {},
   "outputs": [],
   "source": [
    "anova(df_234, 'comfort_with_ussd', 'searches')"
   ]
  },
  {
   "cell_type": "code",
   "execution_count": null,
   "metadata": {},
   "outputs": [],
   "source": [
    "fig, ax = plt.subplots(figsize=(10, 5))\n",
    "for comfort in remove_nan(df_hh['comfort_with_ussd'].unique()):\n",
    "    df_hh[df_hh['comfort_with_ussd'] == comfort]['age'].plot(kind='density', ax=ax, label=comfort)\n",
    "ax.legend()\n",
    "ax.set_title('Distribution of Age by Comfort with USSD for Males and Females')\n",
    "ax.set_xlabel('Age')\n",
    "ax.set_ylabel('Density')\n",
    "plt.show()"
   ]
  },
  {
   "cell_type": "code",
   "execution_count": null,
   "metadata": {},
   "outputs": [],
   "source": [
    "# density plot to compare distribution of age with comfort_with_ussd for males\n",
    "df_males = df_hh[df_hh['hoh_gender_lb'] == \"Male-headed\"]\n",
    "fig, ax = plt.subplots(figsize=(10, 5))\n",
    "for comfort in remove_nan(df_males['comfort_with_ussd'].unique()):\n",
    "    df_males[df_males['comfort_with_ussd'] == comfort]['age'].plot(kind='density', ax=ax, label=comfort)\n",
    "ax.legend()\n",
    "ax.set_title('Distribution of Age by Comfort with USSD for Males')\n",
    "ax.set_xlabel('Age')\n",
    "ax.set_ylabel('Density')\n",
    "plt.show()"
   ]
  },
  {
   "cell_type": "code",
   "execution_count": null,
   "metadata": {},
   "outputs": [],
   "source": [
    "df_females = df_hh[df_hh['hoh_gender_lb'] == \"Female-headed\"]\n",
    "fig, ax = plt.subplots(figsize=(10, 5))\n",
    "for comfort in remove_nan(df_males['comfort_with_ussd'].unique()):\n",
    "    df_females[df_females['comfort_with_ussd'] == comfort]['age'].plot(kind='density', ax=ax, label=comfort)\n",
    "ax.legend()\n",
    "ax.set_title('Distribution of Age by Comfort with USSD for Females')\n",
    "ax.set_xlabel('Age')\n",
    "ax.set_ylabel('Density')\n",
    "plt.show()"
   ]
  },
  {
   "cell_type": "code",
   "execution_count": null,
   "metadata": {},
   "outputs": [],
   "source": [
    "anova(df_females, 'comfort_with_ussd', 'age_group')"
   ]
  },
  {
   "cell_type": "code",
   "execution_count": null,
   "metadata": {},
   "outputs": [],
   "source": [
    "anova(df_males, 'comfort_with_ussd', 'age_group')"
   ]
  },
  {
   "cell_type": "code",
   "execution_count": null,
   "metadata": {},
   "outputs": [],
   "source": [
    "anova(df_females, 'businesses_visited', 'age_group')"
   ]
  },
  {
   "cell_type": "code",
   "execution_count": null,
   "metadata": {},
   "outputs": [],
   "source": [
    "anova(df_males, 'businesses_visited', 'age_group')"
   ]
  },
  {
   "cell_type": "code",
   "execution_count": null,
   "metadata": {},
   "outputs": [],
   "source": [
    "anova(df_hh, 'businesses_visited', 'age_group')"
   ]
  },
  {
   "cell_type": "code",
   "execution_count": null,
   "metadata": {},
   "outputs": [],
   "source": [
    "df_hh['age_group'].value_counts()"
   ]
  },
  {
   "cell_type": "code",
   "execution_count": null,
   "metadata": {},
   "outputs": [],
   "source": [
    "# df_0_18 = df_hh[df_hh['age_group'] == pd.Interval(0, 18, closed='right')] # no one is in this age group\n",
    "df_18_25 = df_hh[df_hh['age_group'] == pd.Interval(18, 25, closed='right')]\n",
    "df_25_35 = df_hh[df_hh['age_group'] == pd.Interval(25, 35, closed='right')]\n",
    "df_35_45 = df_hh[df_hh['age_group'] == pd.Interval(35, 45, closed='right')]\n",
    "df_45_55 = df_hh[df_hh['age_group'] == pd.Interval(45, 55, closed='right')]\n",
    "df_55_65 = df_hh[df_hh['age_group'] == pd.Interval(55, 65, closed='right')]\n",
    "df_65_100 = df_hh[df_hh['age_group'] == pd.Interval(65, 100, closed='right')]"
   ]
  },
  {
   "cell_type": "code",
   "execution_count": null,
   "metadata": {},
   "outputs": [],
   "source": [
    "temp = df_hh.groupby(['comfort_with_ussd', 'gender'])['comfort_with_ussd'].count().unstack('gender').fillna(0)\n",
    "display(temp)\n",
    "temp[remove_nan(df_hh['gender'].unique())].plot(kind='bar', stacked=True)\n",
    "plt.title(\"Comfort with USSD vs Gender for 0-100 Age Group\")"
   ]
  },
  {
   "cell_type": "code",
   "execution_count": null,
   "metadata": {},
   "outputs": [],
   "source": [
    "temp = df_hh[df_hh['age'] < 40].groupby(['comfort_with_ussd', 'gender'])['comfort_with_ussd'].count().unstack('gender').fillna(0)\n",
    "display(temp)\n",
    "temp[remove_nan(df_hh[df_hh['age'] < 40]['gender'].unique())].plot(kind='bar', stacked=True)\n",
    "plt.title(\"Comfort with USSD vs Gender for 0-40 Age Group\")"
   ]
  },
  {
   "cell_type": "code",
   "execution_count": null,
   "metadata": {},
   "outputs": [],
   "source": [
    "temp = df_hh[df_hh['age'] >= 40].groupby(['comfort_with_ussd', 'gender'])['comfort_with_ussd'].count().unstack('gender').fillna(0)\n",
    "display(temp)\n",
    "temp[remove_nan(df_hh[df_hh['age'] >= 40]['gender'].unique())].plot(kind='bar', stacked=True)\n",
    "plt.title(\"Comfort with USSD vs Gender for 40-100 Age Group\")"
   ]
  },
  {
   "cell_type": "code",
   "execution_count": null,
   "metadata": {},
   "outputs": [],
   "source": [
    "anova(df_hh, 'gender', 'comfort_with_ussd')"
   ]
  },
  {
   "cell_type": "code",
   "execution_count": null,
   "metadata": {},
   "outputs": [],
   "source": [
    "anova(df_hh[df_hh['age'] >= 40], 'gender', 'comfort_with_ussd')"
   ]
  },
  {
   "cell_type": "code",
   "execution_count": null,
   "metadata": {},
   "outputs": [],
   "source": [
    "anova(df_hh[df_hh['age'] < 40], 'gender', 'comfort_with_ussd')"
   ]
  },
  {
   "cell_type": "code",
   "execution_count": null,
   "metadata": {},
   "outputs": [],
   "source": [
    "anova(df_hh[df_hh['age'] >= 40], 'gender', 'businesses_visited')"
   ]
  },
  {
   "cell_type": "code",
   "execution_count": null,
   "metadata": {},
   "outputs": [],
   "source": [
    "anova(df_hh[df_hh['age'] < 40], 'gender', 'businesses_visited')"
   ]
  },
  {
   "cell_type": "code",
   "execution_count": null,
   "metadata": {},
   "outputs": [],
   "source": [
    "anova(df_hh, 'gender', 'businesses_visited')"
   ]
  },
  {
   "cell_type": "code",
   "execution_count": null,
   "metadata": {},
   "outputs": [],
   "source": [
    "df_nonanon = pd.read_csv('hh_nonanon.csv').drop('Unnamed: 0', axis=1)\n",
    "df_nonanon.head()"
   ]
  },
  {
   "cell_type": "code",
   "execution_count": null,
   "metadata": {},
   "outputs": [],
   "source": [
    "list(df_nonanon.columns)"
   ]
  },
  {
   "cell_type": "code",
   "execution_count": null,
   "metadata": {},
   "outputs": [],
   "source": [
    "df_nonanon = df_nonanon[df_nonanon[\"digital\"].apply(lambda x: bool(x))]"
   ]
  },
  {
   "cell_type": "code",
   "execution_count": null,
   "metadata": {},
   "outputs": [],
   "source": [
    "df_nonanon[\"digital\"]"
   ]
  },
  {
   "cell_type": "code",
   "execution_count": null,
   "metadata": {},
   "outputs": [],
   "source": [
    "df_nonanon.info()"
   ]
  },
  {
   "cell_type": "code",
   "execution_count": null,
   "metadata": {},
   "outputs": [],
   "source": [
    "def classify_phone(row):\n",
    "    if row[\"p_basic\"] == 1 and row[\"p_smart\"] == 1:\n",
    "        return \"Both\" \n",
    "    elif row[\"p_basic\"] == 1:\n",
    "        return  \"Feature\"\n",
    "    elif row[\"p_smart\"] == 1:\n",
    "        return \"Smart\"\n",
    "    else:\n",
    "        return \"None\""
   ]
  },
  {
   "cell_type": "code",
   "execution_count": null,
   "metadata": {},
   "outputs": [],
   "source": [
    "df_nonanon[\"phone_type\"] = df_nonanon.apply(classify_phone, axis=1)"
   ]
  },
  {
   "cell_type": "code",
   "execution_count": null,
   "metadata": {},
   "outputs": [],
   "source": [
    "df_nonanon[\"phone_type\"].value_counts()"
   ]
  },
  {
   "cell_type": "code",
   "execution_count": null,
   "metadata": {},
   "outputs": [],
   "source": [
    "df_nonanon['age_group'] = pd.cut(df_nonanon['age'], bins=[0, 18, 25, 35, 45, 55, 65, 100])"
   ]
  },
  {
   "cell_type": "code",
   "execution_count": null,
   "metadata": {},
   "outputs": [],
   "source": [
    "df_nonanon[[\"phone_type\", \"gender\", \"age_group\", \"f_103_ussd\", \"f_102_wakala\", \"f_104_ussd\"]].value_counts()"
   ]
  },
  {
   "cell_type": "code",
   "execution_count": null,
   "metadata": {},
   "outputs": [],
   "source": [
    "df_nonanon[[\"phone_type\", \"f_104_ussd\"]].value_counts().plot(kind=\"barh\")"
   ]
  },
  {
   "cell_type": "code",
   "execution_count": null,
   "metadata": {},
   "outputs": [],
   "source": [
    "# rename comfort_with_ussd column values to be shorter\n",
    "df_nonanon['f_104_ussd'] = df_nonanon['f_104_ussd'].replace({\n",
    "    \"Very Comfortable – I can use USSD without help from anyone\": \"1. Very Comfortable\",\n",
    "    \"Somewhat comfortable – I may ask for help sometimes\": \"2. Somewhat Comfortable\",\n",
    "    \"Not very comfortable – I need help over 50% of the time\": \"3. Not Comfortable\",\n",
    "    \"Uncomfortable – I always ask someone else to navigate the menus on my behalf\": \"4. Very Uncomfortable\"\n",
    "})"
   ]
  },
  {
   "cell_type": "code",
   "execution_count": null,
   "metadata": {},
   "outputs": [],
   "source": [
    "df_pivot = pd.pivot_table(\n",
    "    df_nonanon, \n",
    "    values=\"age\",\n",
    "    index=\"f_104_ussd\",\n",
    "    columns=\"phone_type\", \n",
    "    aggfunc=len,\n",
    ")\n",
    "ax = df_pivot.plot.barh()\n",
    "ax.set_ylabel(\"Comfort with USSD\")\n",
    "ax.set_xlabel(\"Number of Respondents\")\n",
    "ax.set_title(\"Comfort with USSD by Phone Type\")\n",
    "ax.legend(title=\"Phone Type\", loc=\"upper right\")\n",
    "ax.invert_yaxis()"
   ]
  },
  {
   "cell_type": "code",
   "execution_count": null,
   "metadata": {},
   "outputs": [],
   "source": [
    "df_nonanon[\"f_103_ussd\"].value_counts()"
   ]
  },
  {
   "cell_type": "code",
   "execution_count": null,
   "metadata": {},
   "outputs": [],
   "source": [
    "# if \"f_103_ussd\" is no, set \"f_104_ussd\" to \"0. Doesn't Use USSD\"\n",
    "df_nonanon.loc[df_nonanon['f_103_ussd'] == 'No', 'f_104_ussd'] = '0. Doesn\\'t Use USSD'"
   ]
  },
  {
   "cell_type": "code",
   "execution_count": null,
   "metadata": {},
   "outputs": [],
   "source": [
    "df_nonanon[\"f_104_ussd\"].value_counts()"
   ]
  },
  {
   "cell_type": "code",
   "execution_count": null,
   "metadata": {},
   "outputs": [],
   "source": [
    "def lighten_color(color, amount=0.5):\n",
    "    \"\"\"\n",
    "    Lightens the given color by multiplying (1-luminosity) by the given amount.\n",
    "    Input can be matplotlib color string, hex string, or RGB tuple.\n",
    "\n",
    "    Examples:\n",
    "    >> lighten_color('g', 0.3)\n",
    "    >> lighten_color('#F034A3', 0.6)\n",
    "    >> lighten_color((.3,.55,.1), 0.5)\n",
    "    \"\"\"\n",
    "    import matplotlib.colors as mc\n",
    "    import colorsys\n",
    "    try:\n",
    "        c = mc.cnames[color]\n",
    "    except:\n",
    "        c = color\n",
    "    c = colorsys.rgb_to_hls(*mc.to_rgb(c))\n",
    "    return colorsys.hls_to_rgb(c[0], 1 - amount * (1 - c[1]), c[2])"
   ]
  },
  {
   "cell_type": "code",
   "execution_count": null,
   "metadata": {},
   "outputs": [],
   "source": [
    "# replace Wakala Usage values with <1 visit/month, ~1 visit/month, ~1 visit/week, >1 visit/week\n",
    "df_nonanon['f_102_wakala'] = df_nonanon['f_102_wakala'].replace({\n",
    "    \"Less than once a month\": \"<1 visit/month\",\n",
    "    \"Once a month\": \"~1 visit/month\",\n",
    "    \"Once each week\": \"~1 visit/week\",\n",
    "    \"Multiple times in a week\": \">1 visit/week\"\n",
    "})"
   ]
  },
  {
   "cell_type": "code",
   "execution_count": null,
   "metadata": {},
   "outputs": [],
   "source": [
    "# cols = [\"district_label_x\", \"phone_type\", \"gender\", \"age_group\", \"f_103_ussd\", \"f_102_wakala\", \"f_96_electric_grid\", \"total_indiv\"]\n",
    "# dispnames = [\"District\", \"Phone Type\", \"Gender\", \"Age Group\", \"USSD Usage\", \"Wakala Usage\", \"Electric Grid\", \"Household Members\"]\n",
    "cols = [\"district_label_x\", \"f_96_electric_grid\", \"gender\", \"age_group\", \"f_103_ussd\", \"f_102_wakala\"]\n",
    "dispnames = [\"District\", \"Electric Grid\", \"Gender\", \"Age\", \"USSD Usage\", \"Wakala Usage\"]\n",
    "plt.rcParams.update({'font.size': 30}) # bottom label and subplot title size\n",
    "fig, axs = plt.subplots(nrows=len(cols), ncols=1, figsize=(30, 20), height_ratios=[df_nonanon[col].nunique() for col in cols])\n",
    "for ax, col, dispname in zip(axs.flatten(), cols, dispnames):\n",
    "    df_pivot = pd.pivot_table(\n",
    "        df_nonanon, \n",
    "        values=\"age\",\n",
    "        index=col,\n",
    "        columns=\"f_104_ussd\", \n",
    "        aggfunc=len,\n",
    "    )[[\"0. Doesn't Use USSD\", \"4. Very Uncomfortable\", \"3. Not Comfortable\", \"2. Somewhat Comfortable\", \"1. Very Comfortable\"]]\n",
    "    df_pivot.plot.barh(ax=ax, stacked=True, legend=False, width=1.0, color=list(map(lambda c: lighten_color(c, 0.5), ['gray', 'red', 'orange', 'gold', 'forestgreen'])))\n",
    "    ax.set_ylabel(dispname)\n",
    "    ax.spines['top'].set_visible(False)\n",
    "    ax.spines['right'].set_visible(False)\n",
    "    ax.invert_yaxis()\n",
    "    for label in (ax.get_xticklabels() + ax.get_yticklabels()): label.set_fontsize(28) # subplot y-axis label sizes\n",
    "axs[0].legend(title=\"Comfort With USSD\", loc=\"upper center\", bbox_to_anchor=(0.5, 1.8), ncol=5, title_fontsize=44, fontsize=26)\n",
    "axs[-1].set_xlabel(\"Number of Household Survey Respondents\")\n",
    "fig.tight_layout(pad=1.0)"
   ]
  },
  {
   "cell_type": "code",
   "execution_count": null,
   "metadata": {},
   "outputs": [],
   "source": [
    "# pie chart of f_104_ussd for Males\n",
    "ax = df_nonanon[df_nonanon[\"gender\"] == \"Male\"][\"f_104_ussd\"].value_counts().plot(kind='pie', autopct='%1.1f%%', figsize=(10,10))\n",
    "ax.axis('off')"
   ]
  },
  {
   "cell_type": "code",
   "execution_count": null,
   "metadata": {},
   "outputs": [],
   "source": [
    "ax = df_nonanon[df_nonanon[\"gender\"] == \"Female\"][\"f_104_ussd\"].value_counts().plot(kind='pie', autopct='%1.1f%%', figsize=(10,10))\n",
    "ax.axis('off')"
   ]
  },
  {
   "cell_type": "code",
   "execution_count": null,
   "metadata": {},
   "outputs": [],
   "source": [
    "total = df_nonanon[\"f_104_ussd\"].value_counts().sum()\n",
    "ax = df_nonanon[\"f_104_ussd\"].value_counts().plot(kind='pie', autopct=lambda x: '{:1.1f}%\\n({:.0f})'.format(x, total * x / 100), figsize=(10,10))\n",
    "ax.axis('off')"
   ]
  },
  {
   "cell_type": "code",
   "execution_count": null,
   "metadata": {},
   "outputs": [],
   "source": [
    "df_nonanon[df_nonanon[\"gender\"] == \"Male\"][\"age\"].agg([\"mean\", \"median\", \"std\"])"
   ]
  },
  {
   "cell_type": "code",
   "execution_count": null,
   "metadata": {},
   "outputs": [],
   "source": [
    "df_nonanon[df_nonanon[\"gender\"] == \"Female\"][\"age\"].agg([\"mean\", \"median\", \"std\"])"
   ]
  },
  {
   "cell_type": "code",
   "execution_count": null,
   "metadata": {},
   "outputs": [],
   "source": [
    "df_nonanon[df_nonanon.apply(lambda f: int(f[\"phone_number\"]) in set(df_hh_users[\"phone_number\"]), axis=1)][\"phone_type\"].value_counts()"
   ]
  },
  {
   "cell_type": "code",
   "execution_count": null,
   "metadata": {},
   "outputs": [],
   "source": [
    "9 / 18"
   ]
  }
 ],
 "metadata": {
  "kernelspec": {
   "display_name": "python3",
   "language": "python",
   "name": "python3"
  },
  "language_info": {
   "codemirror_mode": {
    "name": "ipython",
    "version": 3
   },
   "file_extension": ".py",
   "mimetype": "text/x-python",
   "name": "python",
   "nbconvert_exporter": "python",
   "pygments_lexer": "ipython3",
   "version": "3.10.6"
  },
  "orig_nbformat": 4
 },
 "nbformat": 4,
 "nbformat_minor": 2
}
