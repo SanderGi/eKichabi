{
 "cells": [
  {
   "cell_type": "code",
   "execution_count": null,
   "metadata": {},
   "outputs": [],
   "source": [
    "import pandas as pd\n",
    "import geopandas as gpd\n",
    "import matplotlib.pyplot as plt\n",
    "import numpy as np"
   ]
  },
  {
   "cell_type": "code",
   "execution_count": null,
   "metadata": {},
   "outputs": [],
   "source": [
    "df_hh = pd.read_csv(\"hh_anon.csv\")\n",
    "df_hh.head()"
   ]
  },
  {
   "cell_type": "code",
   "execution_count": null,
   "metadata": {},
   "outputs": [],
   "source": [
    "df_hh = df_hh[df_hh[\"digital\"] == 1]"
   ]
  },
  {
   "cell_type": "code",
   "execution_count": null,
   "metadata": {},
   "outputs": [],
   "source": [
    "df_firm = pd.read_csv('../ekichabi-server/data/census_data_trimmed.csv')\n",
    "df_firm.head()"
   ]
  },
  {
   "cell_type": "code",
   "execution_count": null,
   "metadata": {},
   "outputs": [],
   "source": [
    "# load Tanzania district shapefile\n",
    "tanzania = gpd.read_file('districts/Districts.shp')\n",
    "tanzania[\"District_N\"].unique()"
   ]
  },
  {
   "cell_type": "code",
   "execution_count": null,
   "metadata": {},
   "outputs": [],
   "source": [
    "tanzania.head()"
   ]
  },
  {
   "cell_type": "code",
   "execution_count": null,
   "metadata": {},
   "outputs": [],
   "source": [
    "tanzania[tanzania[\"District_N\"] == \"Bukoba\"]"
   ]
  },
  {
   "cell_type": "code",
   "execution_count": null,
   "metadata": {},
   "outputs": [],
   "source": [
    "# display map of district in df_firm using geopandas\n",
    "tanzania.plot(column='District_N', cmap='Set2', figsize=(10,10))"
   ]
  },
  {
   "cell_type": "code",
   "execution_count": null,
   "metadata": {},
   "outputs": [],
   "source": [
    "df_firm[\"district_clean\"] = df_firm[\"district\"].apply(lambda x: x.capitalize() if \"CBD\" not in x else \"Bukoba Urban\")"
   ]
  },
  {
   "cell_type": "code",
   "execution_count": null,
   "metadata": {},
   "outputs": [],
   "source": [
    "d = dict(df_firm[\"district_clean\"].value_counts())\n",
    "df_firm_count = pd.DataFrame({\"district\": list(d.keys()), \"count\": list(d.values())})\n",
    "df_firm_count"
   ]
  },
  {
   "cell_type": "code",
   "execution_count": null,
   "metadata": {},
   "outputs": [],
   "source": [
    "merged_df = pd.merge(left=tanzania, right=df_firm_count, how='left', left_on='District_N', right_on='district')\n",
    "merged_df[\"count\"].fillna(0, inplace=True)\n",
    "merged_df.drop(columns=['district'], inplace=True)\n",
    "merged_df"
   ]
  },
  {
   "cell_type": "code",
   "execution_count": null,
   "metadata": {},
   "outputs": [],
   "source": [
    "merged_df['coords'] = merged_df['geometry'].apply(lambda x: x.representative_point().coords[:])\n",
    "merged_df['coords'] = [coords[0] for coords in merged_df['coords']]"
   ]
  },
  {
   "cell_type": "code",
   "execution_count": null,
   "metadata": {},
   "outputs": [],
   "source": [
    "merged_df.plot(column='count', cmap='OrRd', figsize=(18, 18), legend=True)\n",
    "plt.title(\"Number of Firm Responses per District\")\n",
    "for idx, row in merged_df.iterrows():\n",
    "    plt.text(row.coords[0], row.coords[1], s=row[\"District_N\"], horizontalalignment='center', bbox={'facecolor': 'white', 'alpha':0.2, 'pad': 2, 'edgecolor':'none'}, fontsize=8)"
   ]
  },
  {
   "cell_type": "code",
   "execution_count": null,
   "metadata": {},
   "outputs": [],
   "source": [
    "fig, ax = plt.subplots(figsize=(10, 10))\n",
    "merged_df.plot(column='count', cmap='OrRd', ax=ax, legend=False)\n",
    "ax.set_xlim(30.4, 32.25)\n",
    "ax.set_ylim(-2.5, -0.8)\n",
    "ax.set_title(\"Number of Firm Responses per District\")\n",
    "for idx, row in merged_df.iterrows():\n",
    "    if row[\"District_N\"] not in df_firm_count[\"district\"].unique():\n",
    "        continue\n",
    "    ax.text(row.coords[0], row.coords[1], s=row[\"District_N\"], horizontalalignment='center', bbox={'facecolor': 'white', 'alpha':0.2, 'pad': 2, 'edgecolor':'none'}, fontsize=8)\n",
    "\n",
    "im = ax.imshow(np.arange(3000).reshape((1, 3000)))\n",
    "from mpl_toolkits.axes_grid1 import make_axes_locatable\n",
    "divider = make_axes_locatable(ax)\n",
    "cax = divider.append_axes(\"right\", size=\"5%\", pad=0.05)\n",
    "plt.set_cmap('OrRd')\n",
    "plt.colorbar(im, cax=cax)"
   ]
  },
  {
   "cell_type": "code",
   "execution_count": null,
   "metadata": {},
   "outputs": [],
   "source": [
    "df_hh[\"district_clean\"] = df_hh[\"district_label\"].apply(lambda x: x.split(\" \")[0].capitalize())"
   ]
  },
  {
   "cell_type": "code",
   "execution_count": null,
   "metadata": {},
   "outputs": [],
   "source": [
    "d = dict(df_hh[\"district_clean\"].value_counts())\n",
    "df_hh_count = pd.DataFrame({\"district\": list(d.keys()), \"count\": list(d.values())})\n",
    "df_hh_count"
   ]
  },
  {
   "cell_type": "code",
   "execution_count": null,
   "metadata": {},
   "outputs": [],
   "source": [
    "merged_df = pd.merge(left=tanzania, right=df_hh_count, how='left', left_on='District_N', right_on='district')\n",
    "merged_df[\"count\"].fillna(0, inplace=True)\n",
    "merged_df.drop(columns=['district'], inplace=True)\n",
    "merged_df"
   ]
  },
  {
   "cell_type": "code",
   "execution_count": null,
   "metadata": {},
   "outputs": [],
   "source": [
    "merged_df['coords'] = merged_df['geometry'].apply(lambda x: x.representative_point().coords[:])\n",
    "merged_df['coords'] = [coords[0] for coords in merged_df['coords']]"
   ]
  },
  {
   "cell_type": "code",
   "execution_count": null,
   "metadata": {},
   "outputs": [],
   "source": [
    "merged_df.plot(column='count', cmap='OrRd', figsize=(18, 18), legend=True)\n",
    "plt.title(\"Number of Household Responses per District\")\n",
    "for idx, row in merged_df.iterrows():\n",
    "    plt.text(row.coords[0], row.coords[1], s=row[\"District_N\"], horizontalalignment='center', bbox={'facecolor': 'white', 'alpha':0.2, 'pad': 2, 'edgecolor':'none'}, fontsize=8)"
   ]
  },
  {
   "cell_type": "code",
   "execution_count": null,
   "metadata": {},
   "outputs": [],
   "source": [
    "fig, ax = plt.subplots(figsize=(10, 10))\n",
    "merged_df.plot(column='count', cmap='OrRd', ax=ax, legend=False)\n",
    "ax.set_xlim(30.4, 32.25)\n",
    "ax.set_ylim(-2.5, -0.8)\n",
    "ax.set_title(\"Number of Household Responses per District\", fontsize=20)\n",
    "for idx, row in merged_df.iterrows():\n",
    "    if row[\"District_N\"] not in df_hh_count[\"district\"].unique():\n",
    "        continue\n",
    "    ax.text(row.coords[0], row.coords[1], s=row[\"District_N\"], horizontalalignment='center', bbox={'facecolor': 'white', 'alpha':0.2, 'pad': 2, 'edgecolor':'none'}, fontsize=18)\n",
    "ax.axis('off')\n",
    "\n",
    "im = ax.imshow(np.arange(275).reshape((1, 275)))\n",
    "from mpl_toolkits.axes_grid1 import make_axes_locatable\n",
    "divider = make_axes_locatable(ax)\n",
    "cax = divider.append_axes(\"right\", size=\"5%\", pad=0.05)\n",
    "plt.set_cmap('OrRd')\n",
    "plt.colorbar(im, cax=cax)\n",
    "plt.tick_params(axis='both', which='major', labelsize=16)"
   ]
  }
 ],
 "metadata": {
  "kernelspec": {
   "display_name": "python3",
   "language": "python",
   "name": "python3"
  },
  "language_info": {
   "codemirror_mode": {
    "name": "ipython",
    "version": 3
   },
   "file_extension": ".py",
   "mimetype": "text/x-python",
   "name": "python",
   "nbconvert_exporter": "python",
   "pygments_lexer": "ipython3",
   "version": "3.10.6"
  },
  "orig_nbformat": 4
 },
 "nbformat": 4,
 "nbformat_minor": 2
}
