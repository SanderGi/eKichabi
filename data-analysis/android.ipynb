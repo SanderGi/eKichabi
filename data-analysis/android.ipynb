{
 "cells": [
  {
   "cell_type": "code",
   "execution_count": null,
   "metadata": {},
   "outputs": [],
   "source": [
    "import pandas as pd\n",
    "import matplotlib.pyplot as plt\n",
    "import matplotlib.ticker as mtick\n",
    "import pandas as pd\n",
    "import csv\n",
    "import copy\n",
    "from datetime import datetime, timedelta\n",
    "from zipfile import ZipFile\n",
    "from typing import Tuple, Union\n",
    "import numpy as np\n",
    "import base64\n",
    "import itertools\n",
    "import re"
   ]
  },
  {
   "attachments": {},
   "cell_type": "markdown",
   "metadata": {},
   "source": [
    "# Load Data"
   ]
  },
  {
   "cell_type": "code",
   "execution_count": null,
   "metadata": {},
   "outputs": [],
   "source": [
    "df_survey = pd.read_csv('census_survey.csv')\n",
    "df_survey.head()"
   ]
  },
  {
   "cell_type": "code",
   "execution_count": null,
   "metadata": {},
   "outputs": [],
   "source": [
    "# Android UTILS\n",
    "\n",
    "def standard_format(phone_num):\n",
    "    '''Converts any phone number format into a standard format. Assumes a valid number is passed (not None, not empty, etc.)'''\n",
    "    phone_num = re.sub(\"[^0-9]\", \"\", phone_num) # only keep numeric characters (no plus, space, etc.)\n",
    "    return phone_num[-9:] # only keep last 9 numbers (no country code or leading zero)\n",
    "\n",
    "def getBit(num, ix):\n",
    "    return (num >> ix) & 1\n",
    "\n",
    "\n",
    "def decode_Base64(binstr):\n",
    "    '''Takes a binary string and decodes it into bits'''\n",
    "    for byte in base64.b64decode(binstr):  # (get bytes that each read from lower order bit to higher order bit)\n",
    "        for i in range(8):\n",
    "            yield getBit(byte, i)\n",
    "\n",
    "\n",
    "def getActionType(binary):\n",
    "    '''loops through the bit generator's next 3 bits to find the action type'''\n",
    "    if binary.__next__():\n",
    "        if binary.__next__():\n",
    "            if binary.__next__():\n",
    "                return \"FILTER\"  # 111\n",
    "            else:\n",
    "                return \"SEARCH\"  # 110\n",
    "        else:\n",
    "            if binary.__next__():\n",
    "                return \"CONTACT\"  # 101\n",
    "            else:\n",
    "                return \"OPEN BUSINESS SCREEN\"  # 100\n",
    "    else:\n",
    "        if binary.__next__():\n",
    "            if binary.__next__():\n",
    "                return \"CALL\"  # 011\n",
    "            else:\n",
    "                return \"UNFAVORITE\"  # 010\n",
    "        else:\n",
    "            if binary.__next__():  # 001\n",
    "                return \"FAVORITE\"\n",
    "            else:\n",
    "                return \"UNRECOGNIZED ACTION\"  # 000\n",
    "\n",
    "\n",
    "def getDate(binary):\n",
    "    daycount = 0\n",
    "    for i in range(12):\n",
    "        if binary.__next__():\n",
    "            daycount += pow(2, i)\n",
    "    reference = datetime.strptime(\"2022/1/1\", \"%Y/%m/%d\")\n",
    "    return reference + timedelta(days=daycount)\n",
    "\n",
    "\n",
    "def getPK(binary):\n",
    "    pk = 0\n",
    "    for i in range(16):\n",
    "        if binary.__next__():\n",
    "            pk += pow(2, i)\n",
    "    return pk\n",
    "\n",
    "def decode_Base64_actions(binstr):\n",
    "    '''Takes a binary string (b'text') and decodes it into humanly readable action strings'''\n",
    "    return decode_binary_actions(decode_Base64(binstr))\n",
    "\n",
    "def decode_binary_actions(binary):\n",
    "    '''Takes a binary (boolean) generator and decodes it into humanly readable action strings'''\n",
    "    currentActionType = False\n",
    "    actionStrings = []\n",
    "    while binary:\n",
    "        try:\n",
    "            if not currentActionType:  # we are starting a new action\n",
    "                currentActionType = getActionType(binary)\n",
    "                actionStrings += [currentActionType + \" | \"]\n",
    "                if currentActionType == 'UNRECOGNIZED ACTION':\n",
    "                    actionStrings[-1] += \"[000]\"\n",
    "            if currentActionType in [\"FAVORITE\", \"UNFAVORITE\", \"CALL\", \"OPEN BUSINESS SCREEN\", \"CONTACT\"]:\n",
    "                date = getDate(binary)\n",
    "                actionStrings[-1] += date.strftime(\"%Y/%m/%d\") + \" | \"\n",
    "                actionStrings[-1] += \"Business pk: \" + str(getPK(binary))\n",
    "                for _ in range(9):\n",
    "                    binary.__next__()\n",
    "                currentActionType = False\n",
    "            elif currentActionType in [\"SEARCH\", \"FILTER\"]:\n",
    "                date = getDate(binary)\n",
    "                actionStrings[-1] += date.strftime(\"%Y/%m/%d\") + \" | \"\n",
    "                actionStrings[-1] += \"SUCCESSFUL | \" if binary.__next__() else \"UNSUCCESSFUL | \"\n",
    "                actionStrings[-1] += \"TRUNCATED | \" if binary.__next__() else \"UNTRUNCATED | \"\n",
    "                actionStrings[-1] += \"CLEANED | \" if binary.__next__() else \"RAW | \"\n",
    "                searchstr = \"\"\n",
    "                isOffByThree = False\n",
    "                while True:\n",
    "                    value = -1\n",
    "                    for i in range(5):\n",
    "                        value += pow(2, i) * binary.__next__()\n",
    "                    if value == -1:\n",
    "                        bit1 = binary.__next__()\n",
    "                        bit2 = binary.__next__()\n",
    "                        bit3 = binary.__next__()\n",
    "                        if not bit1 and not bit2 and not bit3 and not (currentActionType == \"FILTER\" and searchstr in ['mafuta ya', 'kuosha']):\n",
    "                            binary = itertools.chain([0, 0, 0], binary)\n",
    "                            break\n",
    "                        elif len(searchstr) >= 21:\n",
    "                            isOffByThree = True\n",
    "                            binary = itertools.chain([bit1, bit2, bit3], binary)\n",
    "                            break\n",
    "                        else: # catch misencoded strings that contain special characters\n",
    "                            binary = itertools.chain([bit1, bit2, bit3], binary)\n",
    "                            searchstr += \" \"\n",
    "                    else:\n",
    "                        searchstr += chr(value + 97)\n",
    "                actionStrings[-1] += searchstr\n",
    "                bits = 3 + len(searchstr) * 5 + 8 + 3 + 12\n",
    "                for _ in range(3):\n",
    "                    binary.__next__()\n",
    "                if bits % 8 != 0:\n",
    "                    for _ in range(8 - (bits % 8)):\n",
    "                        binary.__next__()\n",
    "                currentActionType = False\n",
    "                if isOffByThree: # recovery mode from off by 3 error\n",
    "                    currentActionType = \"UNRECOGNIZED ACTION\"\n",
    "                    actionStrings += [currentActionType + \" | [\"]\n",
    "                    for _ in range(3):\n",
    "                        actionStrings[-1] += str(binary.__next__())\n",
    "                    actionStrings[-1] += \"]\"\n",
    "            else:\n",
    "                for _ in range(5):\n",
    "                    actionStrings[-1] += str(binary.__next__())\n",
    "                while not actionStrings[-1].endswith(\"0000000000\"):\n",
    "                    for _ in range(8):\n",
    "                        actionStrings[-1] += str(binary.__next__())\n",
    "                currentActionType = False\n",
    "        except StopIteration:\n",
    "            break\n",
    "    return actionStrings"
   ]
  },
  {
   "cell_type": "code",
   "execution_count": null,
   "metadata": {},
   "outputs": [],
   "source": [
    "def decode_binary_file(bytes):\n",
    "    for byte in bytes: \n",
    "        for i in range(8):\n",
    "            yield getBit(byte, i)\n",
    "\n",
    "def createRow(number, binaryStr):\n",
    "    actionStrings = decode_binary_actions(decode_binary_file(binaryStr))\n",
    "    row = {\"phone_number\": number, \"num_actions\": len(actionStrings), \n",
    "            \"FILTER\": 0, \"SEARCH\": 0, \"CONTACT\": 0, \"OPEN BUSINESS SCREEN\": 0, \n",
    "            \"CALL\": 0, \"UNFAVORITE\": 0, \"FAVORITE\": 0, \"UNRECOGNIZED ACTION\": 0, \"dates\": [], \"filter_words\": [], \"search_words\": []}\n",
    "    for action in actionStrings:\n",
    "        parts = action.split(' | ')\n",
    "        row[parts[0]] += 1\n",
    "        if parts[0] != \"UNRECOGNIZED ACTION\":\n",
    "            row['dates'] += [parts[1]]\n",
    "        if parts[0] == \"FILTER\":\n",
    "            row['filter_words'] += [parts[-1]]\n",
    "        elif parts[0] == \"SEARCH\":\n",
    "            row['search_words'] += [parts[-1]]\n",
    "    return row"
   ]
  },
  {
   "cell_type": "code",
   "execution_count": null,
   "metadata": {},
   "outputs": [],
   "source": [
    "df_android = pd.read_csv('android.csv')\n",
    "# df_android = pd.DataFrame()\n",
    "# with ZipFile('logs/android_logs_6_8.zip', 'r') as archive:\n",
    "#     for name in archive.namelist():\n",
    "#         if '_decoded' in name or 'Android' not in name:\n",
    "#             continue\n",
    "#         number = standard_format(name.split('.')[0].split('_')[1])\n",
    "#         with archive.open(name) as file:\n",
    "#             row = createRow(number, file.read())\n",
    "#             df_android = pd.concat([df_android, pd.DataFrame(row.values(), index=row.keys()).T], ignore_index=True)\n",
    "df_android.head()"
   ]
  },
  {
   "cell_type": "code",
   "execution_count": null,
   "metadata": {},
   "outputs": [],
   "source": [
    "df_android.to_csv('android.csv', index=False)"
   ]
  },
  {
   "cell_type": "code",
   "execution_count": null,
   "metadata": {},
   "outputs": [],
   "source": [
    "# from ekichabi.whitelist.GetWhiteList import populate_whitelist_for_admins\n",
    "def populate_whitelist_for_admins(set):\n",
    "    # demo number for internal testing\n",
    "    set.add(standard_format('255000000000'))"
   ]
  },
  {
   "cell_type": "code",
   "execution_count": null,
   "metadata": {},
   "outputs": [],
   "source": [
    "# load whitelist\n",
    "whitelist = {}\n",
    "with open('../ekichabi-server/data/whitelist_pretty.csv', 'r') as csvfile:\n",
    "    # creating a csv reader object\n",
    "    csvreader = csv.reader(csvfile)\n",
    "\n",
    "    # ignore first row - which contains field names\n",
    "    next(csvreader)\n",
    "\n",
    "    # extracting phone number(s) out of each row\n",
    "    for row in csvreader:\n",
    "        date = datetime.strptime(row[-1], '%Y-%d-%b')\n",
    "        if date not in whitelist:\n",
    "            whitelist[date] = set()\n",
    "        if str(row[1]):\n",
    "            whitelist[date].add(standard_format(str(row[1])))  # number1\n",
    "\n",
    "print(whitelist.keys())\n",
    "totalwhitelist = set.union(*whitelist.values())\n",
    "print(len(totalwhitelist))"
   ]
  },
  {
   "cell_type": "code",
   "execution_count": null,
   "metadata": {},
   "outputs": [],
   "source": [
    "# load enumerators\n",
    "enumerators = set()\n",
    "with open('../ekichabi-server/data/Enumerator.csv', 'r') as csvfile:\n",
    "    # creating a csv reader object\n",
    "    csvreader = csv.reader(csvfile)\n",
    "\n",
    "    # ignore header\n",
    "    next(csvreader)\n",
    "\n",
    "    # extracting phone number out of each row\n",
    "    for row in csvreader:\n",
    "        enumerators.add(standard_format(str(row[2])))  # number1\n",
    "print(enumerators)"
   ]
  },
  {
   "cell_type": "code",
   "execution_count": null,
   "metadata": {},
   "outputs": [],
   "source": [
    "# load testers and admins\n",
    "testers = set()\n",
    "populate_whitelist_for_admins(testers)\n",
    "print(testers)"
   ]
  },
  {
   "cell_type": "code",
   "execution_count": null,
   "metadata": {},
   "outputs": [],
   "source": [
    "# load wakala intervention group\n",
    "wakalagroup = set()\n",
    "with open('../ekichabi-server/data/Wakala.csv', 'r') as csvfile:\n",
    "    # creating a csv reader object\n",
    "    csvreader = csv.reader(csvfile)\n",
    "\n",
    "    # extracting phone number out of each row\n",
    "    for row in csvreader:\n",
    "        wakalagroup.add(standard_format(str(row[1])))  # number1\n",
    "print(wakalagroup)"
   ]
  },
  {
   "cell_type": "code",
   "execution_count": null,
   "metadata": {},
   "outputs": [],
   "source": [
    "# load business group\n",
    "cutoffdate = datetime.strptime('2022-7-Dec', '%Y-%d-%b')\n",
    "businessgroup = set()\n",
    "with open('../ekichabi-server/data/census_data_trimmed.csv', 'r') as csvfile:\n",
    "    # creating a csv reader object\n",
    "    csvreader = csv.reader(csvfile)\n",
    "\n",
    "    # ignore first row - which contains field names\n",
    "    next(csvreader)\n",
    "\n",
    "    # extracting phone number out of each row\n",
    "    for row in csvreader:\n",
    "        businessgroup.add(standard_format(str(row[17])))  # number1\n",
    "        businessgroup.add(standard_format(str(row[18])))  # number2\n",
    "businessgroup.remove(\"\")\n",
    "len(businessgroup)"
   ]
  },
  {
   "cell_type": "code",
   "execution_count": null,
   "metadata": {},
   "outputs": [],
   "source": [
    "def wasWhitelisted(number: str, date: datetime) -> bool:\n",
    "    number = standard_format(number)\n",
    "    if number in testers or number in enumerators:\n",
    "        return False\n",
    "    if date <= cutoffdate and number in businessgroup:\n",
    "        return True\n",
    "    for d, l in whitelist.items():\n",
    "        if d > date:\n",
    "            return False\n",
    "        if number in l:\n",
    "            return True\n",
    "    return False"
   ]
  },
  {
   "cell_type": "code",
   "execution_count": null,
   "metadata": {},
   "outputs": [],
   "source": [
    "def categorizeGroup(number, time):\n",
    "    return 'non-whitelisted' if (not wasWhitelisted(number, time)) else 'wakalagroup' if number in wakalagroup else 'business' if number in businessgroup else 'household'"
   ]
  },
  {
   "cell_type": "code",
   "execution_count": null,
   "metadata": {},
   "outputs": [],
   "source": [
    "sum([1 if categorizeGroup(standard_format(str(n)), cutoffdate) == 'household' else 0 for n in totalwhitelist])"
   ]
  },
  {
   "cell_type": "code",
   "execution_count": null,
   "metadata": {},
   "outputs": [],
   "source": [
    "# load log data\n",
    "def parseLine(line: bytes) -> Tuple[datetime, str, Union[str, bool]]:\n",
    "    line = line.decode().strip()\n",
    "    columns = line.split('\\t')\n",
    "    t = datetime.strptime(columns[0], '[%H:%M:%S.%f]')\n",
    "    time = startTime + timedelta(hours=t.hour, minutes=t.minute, seconds=t.second, microseconds=t.microsecond)\n",
    "    action = columns[1]\n",
    "    details = columns[3] if len(columns) > 3 else False\n",
    "    return time, action, details\n",
    "\n",
    "def initRow(number, startTime):\n",
    "    return {'phone_number': number, 'session_start': startTime, 'session_end': pd.NaT, 'duration': pd.NaT,'inputs': \"\", \n",
    "        'group': categorizeGroup(number, startTime), \n",
    "        'businesses_visited': 0, 'businesses': [], 'searches': 0, 'filter_location': 0, 'helper_instruction': 0, 'category_browse': 0, 'location_browse': 0, 'exit': 0, 'home': 0, 'back': 0}\n",
    "\n",
    "df = pd.read_csv('logs.csv')\n",
    "\n",
    "# df = pd.DataFrame(columns=initRow('000000000', 0).keys())\n",
    "# with ZipFile('logs/all_ussd.zip', 'r') as archive:\n",
    "#     for name in archive.namelist(): # name = [phone_number]_[Year]-[month]-[day]-[Hour].[Minute].[Second]\n",
    "#         parts = name.split('_')\n",
    "#         number = standard_format(parts[0])\n",
    "#         print(name)\n",
    "#         print(parts[1].replace('.log', ''))\n",
    "#         startTime = datetime.strptime(parts[1].replace('.log', ''), '%Y-%m-%d-%H.%M.%S')\n",
    "#         # if not wasWhitelisted(number, startTime):\n",
    "#         #     continue\n",
    "#         if number in testers or number in enumerators:\n",
    "#             continue\n",
    "#         row = initRow(number, startTime)\n",
    "#         isHome = True\n",
    "#         path = []\n",
    "#         with archive.open(name) as file:\n",
    "#             file.readline() # ignore session info\n",
    "#             line = file.readline() # ignore column headers\n",
    "#             # line = file.readline() # ignore first home screen\n",
    "\n",
    "#             def handleReadLine():\n",
    "#                 global line\n",
    "#                 global row\n",
    "#                 global isHome\n",
    "#                 global path\n",
    "#                 line = file.readline()\n",
    "#                 if not line:\n",
    "#                     return \"\", \"\", \"\"\n",
    "#                 time, action, details = parseLine(line)\n",
    "#                 row['session_end'] = time\n",
    "#                 row['duration'] = time - startTime\n",
    "#                 if action == 'INPUT RECEIVED':\n",
    "#                     row['inputs'] += (\",\" if len(row['inputs']) != 0 else \"\") + details.strip(\"'\")\n",
    "#                 elif action == 'RENDERED SCREEN' and details == 'SearchSelectorScreen':\n",
    "#                     row['searches'] += 1\n",
    "#                 elif action == 'RENDERED SCREEN' and details == 'IfFilterBYLocationScreen':\n",
    "#                     row['filter_location'] += 1\n",
    "#                 elif action == 'RENDERED SCREEN' and details == 'HelpScreen':\n",
    "#                     row['helper_instruction'] += 1\n",
    "#                 elif isHome and action == 'RENDERED SCREEN' and details == 'MenuHierarchyScreen - selecting a category':\n",
    "#                     row['category_browse'] += 1\n",
    "#                 elif isHome and action == 'RENDERED SCREEN' and details == 'MenuHierarchyScreen - selecting a district':\n",
    "#                     row['category_browse'] += 1\n",
    "#                 elif action == 'RENDERED SCREEN' and details and details.startswith('BusinessDetailsScreen'):\n",
    "#                     row['businesses_visited'] += 1\n",
    "#                     duration = pd.NaT\n",
    "#                     next_line = file.peek()\n",
    "#                     if next_line:\n",
    "#                         next_time, _, _ = parseLine(next_line)\n",
    "#                         duration = next_time - time\n",
    "#                     business = {'id': details.split(' - for ')[1], 'duration': duration,'path': copy.copy(path)}\n",
    "#                     row['businesses'].append(business)\n",
    "#                 if action == 'RENDERED SCREEN':\n",
    "#                     path.append(details)\n",
    "#                     isHome = False\n",
    "#                 return time, action, details\n",
    "\n",
    "#             while line:\n",
    "#                 time, action, details = handleReadLine()\n",
    "#                 if not line: break\n",
    "#                 if action == 'BACK PRESSED': # BACK PRESSED + RENDERED SCREEN (back button -- 99)\n",
    "#                     row['back'] += 1\n",
    "#                     _, _, details = handleReadLine()\n",
    "#                     isHome = details == 'HomeScreen'\n",
    "#                     if isHome:\n",
    "#                         path = []\n",
    "#                 elif action == 'HOME PRESSED': # HOME PRESSED + RENDERED SCREEN (home button -- 100)\n",
    "#                     row['home'] += 1\n",
    "#                     handleReadLine()\n",
    "#                     isHome = True\n",
    "#                     path = []\n",
    "#                 elif action == 'EXIT PRESSED': # EXIT PRESSED + RENDERED SCREEN (session end button -- 109)\n",
    "#                     row['exit'] += 1\n",
    "#                     handleReadLine()\n",
    "#         df = pd.concat([df, pd.DataFrame(row.values(), index=row.keys()).T], ignore_index=True)\n",
    "#         # break\n",
    "\n",
    "#     print(len(archive.namelist()))\n",
    "pd.set_option('display.max_colwidth', None)\n",
    "df.head()"
   ]
  },
  {
   "cell_type": "code",
   "execution_count": null,
   "metadata": {},
   "outputs": [],
   "source": [
    "df.to_csv('logs.csv')"
   ]
  },
  {
   "cell_type": "code",
   "execution_count": null,
   "metadata": {},
   "outputs": [],
   "source": [
    "df.info()"
   ]
  },
  {
   "cell_type": "code",
   "execution_count": null,
   "metadata": {},
   "outputs": [],
   "source": [
    "df_whitelisted = df[df['group'] != 'non-whitelisted']"
   ]
  },
  {
   "attachments": {},
   "cell_type": "markdown",
   "metadata": {},
   "source": [
    "# Data Viz Utils"
   ]
  },
  {
   "cell_type": "code",
   "execution_count": null,
   "metadata": {},
   "outputs": [],
   "source": [
    "def hist(df, cat = 'wakala_frequency', labels = {1: '1 time or less', 2: '2-5 times', 3:'5+ times'}):\n",
    "    val = 'percentage'\n",
    "    temp = pd.DataFrame({cat:[labels[v] for v in df[cat].value_counts().keys()], val:df[cat].value_counts()})\n",
    "    temp[val] = temp[val].apply(lambda x: (x/temp[val].sum())*100)\n",
    "    labels = temp[val].round(1).astype('str') + '%'\n",
    "    ax = temp.plot.bar(x=cat, y=val, rot=30)\n",
    "    for container in ax.containers:\n",
    "        ax.bar_label(container, labels=labels)\n",
    "        ax.yaxis.set_major_formatter(mtick.PercentFormatter())"
   ]
  },
  {
   "cell_type": "code",
   "execution_count": null,
   "metadata": {},
   "outputs": [],
   "source": [
    "def categorize1vs1234(number):\n",
    "    try:\n",
    "        number = standard_format(str(int(number)))\n",
    "        labels = {\n",
    "            'Very Comfortable--I can use USSD without help from anyone': 1, \n",
    "            'Somewhat comfortable--I may ask for help sometimes': 2, \n",
    "            'Not very comfortable--I need help over 50% of the time': 3, \n",
    "            'Uncomfortable--I always ask someone else to navigate the menus on my behalf': 4\n",
    "        }\n",
    "        match = df_survey[df_survey['phone_number'].apply(lambda n: str(standard_format(str(n)))) == number]['comfort_with_ussd']\n",
    "        return labels[list(match)[0] if isinstance(match, pd.Series) else match] \n",
    "    except:\n",
    "        return -1"
   ]
  },
  {
   "cell_type": "code",
   "execution_count": null,
   "metadata": {},
   "outputs": [],
   "source": [
    "def stackedBarChart(df, horizCat, stackedCat):\n",
    "    df2 = df.groupby([horizCat, stackedCat])[horizCat].count().unstack(stackedCat).fillna(0)\n",
    "    df2[df[stackedCat].unique()].plot(kind='bar', stacked=True)"
   ]
  },
  {
   "attachments": {},
   "cell_type": "markdown",
   "metadata": {},
   "source": [
    "# Analysis"
   ]
  },
  {
   "cell_type": "code",
   "execution_count": null,
   "metadata": {},
   "outputs": [],
   "source": [
    "df_android.info()"
   ]
  },
  {
   "cell_type": "code",
   "execution_count": null,
   "metadata": {},
   "outputs": [],
   "source": [
    "df_android[\"group\"] = df_android[\"phone_number\"].apply(lambda n: categorizeGroup(str(n), cutoffdate))"
   ]
  },
  {
   "cell_type": "code",
   "execution_count": null,
   "metadata": {},
   "outputs": [],
   "source": [
    "df_android.drop_duplicates(subset=['phone_number'], keep='first', inplace=False).value_counts('group')"
   ]
  },
  {
   "cell_type": "code",
   "execution_count": null,
   "metadata": {},
   "outputs": [],
   "source": [
    "sum(df_android['num_actions'])"
   ]
  },
  {
   "cell_type": "code",
   "execution_count": null,
   "metadata": {},
   "outputs": [],
   "source": [
    "874 / 40"
   ]
  },
  {
   "cell_type": "code",
   "execution_count": null,
   "metadata": {},
   "outputs": [],
   "source": [
    "df_whitelisted['phone_number'].nunique()"
   ]
  },
  {
   "cell_type": "code",
   "execution_count": null,
   "metadata": {},
   "outputs": [],
   "source": [
    "sum(df_whitelisted.apply(lambda n: 0 if not isinstance(n['inputs'], str) else n['inputs'].count(','), axis=1))"
   ]
  },
  {
   "cell_type": "code",
   "execution_count": null,
   "metadata": {},
   "outputs": [],
   "source": [
    "24318 / 578"
   ]
  },
  {
   "cell_type": "code",
   "execution_count": null,
   "metadata": {},
   "outputs": [],
   "source": [
    "sum(df_whitelisted['searches'])"
   ]
  },
  {
   "cell_type": "code",
   "execution_count": null,
   "metadata": {},
   "outputs": [],
   "source": [
    "288 / 578"
   ]
  },
  {
   "cell_type": "code",
   "execution_count": null,
   "metadata": {},
   "outputs": [],
   "source": [
    "sum(df_android['SEARCH'])"
   ]
  },
  {
   "cell_type": "code",
   "execution_count": null,
   "metadata": {},
   "outputs": [],
   "source": [
    "85 / 40"
   ]
  },
  {
   "cell_type": "code",
   "execution_count": null,
   "metadata": {},
   "outputs": [],
   "source": [
    "sum(df_android.apply(lambda n: 0 if not isinstance(n['dates'], list) else len(set(n['dates'])), axis=1)) / 40"
   ]
  },
  {
   "cell_type": "code",
   "execution_count": null,
   "metadata": {},
   "outputs": [],
   "source": [
    "sum(df_whitelisted.groupby('phone_number').apply(lambda n: n['session_start'].apply(lambda x: x[:10]).nunique())) / 578"
   ]
  },
  {
   "cell_type": "code",
   "execution_count": null,
   "metadata": {},
   "outputs": [],
   "source": [
    "len(set.union(*[set([el for el in lis]) for lis in df_android['filter_words']]))"
   ]
  },
  {
   "cell_type": "code",
   "execution_count": null,
   "metadata": {},
   "outputs": [],
   "source": [
    "pd.DataFrame([el for lis in df_android['filter_words'] for el in lis], columns=['filter_words']).value_counts()[:10].plot.bar()"
   ]
  },
  {
   "cell_type": "code",
   "execution_count": null,
   "metadata": {},
   "outputs": [],
   "source": [
    "pd.DataFrame([el for lis in df_android['search_words'] for el in lis], columns=['search_words']).value_counts()"
   ]
  },
  {
   "cell_type": "code",
   "execution_count": null,
   "metadata": {},
   "outputs": [],
   "source": [
    "df_android.head(1)"
   ]
  },
  {
   "cell_type": "code",
   "execution_count": null,
   "metadata": {},
   "outputs": [],
   "source": [
    "df_nonanon = pd.read_csv('hh_nonanon.csv').drop('Unnamed: 0', axis=1)\n",
    "df_nonanon = df_nonanon[df_nonanon[\"digital\"].apply(lambda x: bool(x))]\n",
    "def classify_phone(row):\n",
    "    if row[\"p_basic\"] == 1 and row[\"p_smart\"] == 1:\n",
    "        return \"Both\" \n",
    "    elif row[\"p_basic\"] == 1:\n",
    "        return  \"Feature\"\n",
    "    elif row[\"p_smart\"] == 1:\n",
    "        return \"Smart\"\n",
    "    else:\n",
    "        return \"None\"\n",
    "df_nonanon[\"phone_type\"] = df_nonanon.apply(classify_phone, axis=1)\n",
    "df_nonanon['age_group'] = pd.cut(df_nonanon['age'], bins=[0, 18, 25, 35, 45, 55, 65, 100])\n",
    "df_nonanon['f_104_ussd'] = df_nonanon['f_104_ussd'].replace({\n",
    "    \"Very Comfortable – I can use USSD without help from anyone\": \"1. Very Comfortable\",\n",
    "    \"Somewhat comfortable – I may ask for help sometimes\": \"2. Somewhat Comfortable\",\n",
    "    \"Not very comfortable – I need help over 50% of the time\": \"3. Not Comfortable\",\n",
    "    \"Uncomfortable – I always ask someone else to navigate the menus on my behalf\": \"4. Very Uncomfortable\"\n",
    "})\n",
    "df_nonanon.loc[df_nonanon['f_103_ussd'] == 'No', 'f_104_ussd'] = '0. Doesn\\'t Use USSD'\n",
    "df_nonanon.head()"
   ]
  },
  {
   "cell_type": "code",
   "execution_count": null,
   "metadata": {},
   "outputs": [],
   "source": [
    "set(df_nonanon[\"phone_number\"].fillna(0).astype(\"int\").astype(\"str\")) & set(df_android[\"phone_number\"])"
   ]
  },
  {
   "cell_type": "code",
   "execution_count": null,
   "metadata": {},
   "outputs": [],
   "source": [
    "df_nonanon[df_nonanon[\"phone_number\"] == 782809975][\"f_104_ussd\"]"
   ]
  },
  {
   "cell_type": "code",
   "execution_count": null,
   "metadata": {},
   "outputs": [],
   "source": [
    "sum(df_android[\"FAVORITE\"] != 0)"
   ]
  },
  {
   "cell_type": "code",
   "execution_count": null,
   "metadata": {},
   "outputs": [],
   "source": [
    "5/40"
   ]
  }
 ],
 "metadata": {
  "kernelspec": {
   "display_name": "python3",
   "language": "python",
   "name": "python3"
  },
  "language_info": {
   "codemirror_mode": {
    "name": "ipython",
    "version": 3
   },
   "file_extension": ".py",
   "mimetype": "text/x-python",
   "name": "python",
   "nbconvert_exporter": "python",
   "pygments_lexer": "ipython3",
   "version": "3.10.6"
  },
  "orig_nbformat": 4
 },
 "nbformat": 4,
 "nbformat_minor": 2
}
