{
 "cells": [
  {
   "cell_type": "code",
   "execution_count": null,
   "metadata": {},
   "outputs": [],
   "source": [
    "import pandas as pd\n",
    "import matplotlib.pyplot as plt\n",
    "import matplotlib.ticker as mtick\n",
    "import pandas as pd\n",
    "import csv\n",
    "import copy\n",
    "from datetime import datetime, timedelta\n",
    "from zipfile import ZipFile\n",
    "from typing import Tuple, Union\n",
    "import numpy as np\n",
    "import base64\n",
    "import itertools\n",
    "import re"
   ]
  },
  {
   "attachments": {},
   "cell_type": "markdown",
   "metadata": {},
   "source": [
    "# Load Data"
   ]
  },
  {
   "cell_type": "code",
   "execution_count": null,
   "metadata": {},
   "outputs": [],
   "source": [
    "df_survey = pd.read_csv('census_survey.csv')\n",
    "df_survey.head()"
   ]
  },
  {
   "cell_type": "code",
   "execution_count": null,
   "metadata": {},
   "outputs": [],
   "source": [
    "# Android UTILS\n",
    "\n",
    "def standard_format(phone_num):\n",
    "    '''Converts any phone number format into a standard format. Assumes a valid number is passed (not None, not empty, etc.)'''\n",
    "    phone_num = re.sub(\"[^0-9]\", \"\", phone_num) # only keep numeric characters (no plus, space, etc.)\n",
    "    return phone_num[-9:] # only keep last 9 numbers (no country code or leading zero)\n",
    "\n",
    "def getBit(num, ix):\n",
    "    return (num >> ix) & 1\n",
    "\n",
    "\n",
    "def decode_Base64(binstr):\n",
    "    '''Takes a binary string and decodes it into bits'''\n",
    "    for byte in base64.b64decode(binstr):  # (get bytes that each read from lower order bit to higher order bit)\n",
    "        for i in range(8):\n",
    "            yield getBit(byte, i)\n",
    "\n",
    "\n",
    "def getActionType(binary):\n",
    "    '''loops through the bit generator's next 3 bits to find the action type'''\n",
    "    if binary.__next__():\n",
    "        if binary.__next__():\n",
    "            if binary.__next__():\n",
    "                return \"FILTER\"  # 111\n",
    "            else:\n",
    "                return \"SEARCH\"  # 110\n",
    "        else:\n",
    "            if binary.__next__():\n",
    "                return \"CONTACT\"  # 101\n",
    "            else:\n",
    "                return \"OPEN BUSINESS SCREEN\"  # 100\n",
    "    else:\n",
    "        if binary.__next__():\n",
    "            if binary.__next__():\n",
    "                return \"CALL\"  # 011\n",
    "            else:\n",
    "                return \"UNFAVORITE\"  # 010\n",
    "        else:\n",
    "            if binary.__next__():  # 001\n",
    "                return \"FAVORITE\"\n",
    "            else:\n",
    "                return \"UNRECOGNIZED ACTION\"  # 000\n",
    "\n",
    "\n",
    "def getDate(binary):\n",
    "    daycount = 0\n",
    "    for i in range(12):\n",
    "        if binary.__next__():\n",
    "            daycount += pow(2, i)\n",
    "    reference = datetime.strptime(\"2022/1/1\", \"%Y/%m/%d\")\n",
    "    return reference + timedelta(days=daycount)\n",
    "\n",
    "\n",
    "def getPK(binary):\n",
    "    pk = 0\n",
    "    for i in range(16):\n",
    "        if binary.__next__():\n",
    "            pk += pow(2, i)\n",
    "    return pk\n",
    "\n",
    "def decode_Base64_actions(binstr):\n",
    "    '''Takes a binary string (b'text') and decodes it into humanly readable action strings'''\n",
    "    return decode_binary_actions(decode_Base64(binstr))\n",
    "\n",
    "def decode_binary_actions(binary):\n",
    "    '''Takes a binary (boolean) generator and decodes it into humanly readable action strings'''\n",
    "    currentActionType = False\n",
    "    actionStrings = []\n",
    "    while binary:\n",
    "        try:\n",
    "            if not currentActionType:  # we are starting a new action\n",
    "                currentActionType = getActionType(binary)\n",
    "                actionStrings += [currentActionType + \" | \"]\n",
    "                if currentActionType == 'UNRECOGNIZED ACTION':\n",
    "                    actionStrings[-1] += \"[000]\"\n",
    "            if currentActionType in [\"FAVORITE\", \"UNFAVORITE\", \"CALL\", \"OPEN BUSINESS SCREEN\", \"CONTACT\"]:\n",
    "                date = getDate(binary)\n",
    "                actionStrings[-1] += date.strftime(\"%Y/%m/%d\") + \" | \"\n",
    "                actionStrings[-1] += \"Business pk: \" + str(getPK(binary))\n",
    "                for _ in range(9):\n",
    "                    binary.__next__()\n",
    "                currentActionType = False\n",
    "            elif currentActionType in [\"SEARCH\", \"FILTER\"]:\n",
    "                date = getDate(binary)\n",
    "                actionStrings[-1] += date.strftime(\"%Y/%m/%d\") + \" | \"\n",
    "                actionStrings[-1] += \"SUCCESSFUL | \" if binary.__next__() else \"UNSUCCESSFUL | \"\n",
    "                actionStrings[-1] += \"TRUNCATED | \" if binary.__next__() else \"UNTRUNCATED | \"\n",
    "                actionStrings[-1] += \"CLEANED | \" if binary.__next__() else \"RAW | \"\n",
    "                searchstr = \"\"\n",
    "                isOffByThree = False\n",
    "                while True:\n",
    "                    value = -1\n",
    "                    for i in range(5):\n",
    "                        value += pow(2, i) * binary.__next__()\n",
    "                    if value == -1:\n",
    "                        bit1 = binary.__next__()\n",
    "                        bit2 = binary.__next__()\n",
    "                        bit3 = binary.__next__()\n",
    "                        if not bit1 and not bit2 and not bit3 and not (currentActionType == \"FILTER\" and searchstr in ['mafuta ya', 'kuosha']):\n",
    "                            binary = itertools.chain([0, 0, 0], binary)\n",
    "                            break\n",
    "                        elif len(searchstr) >= 21:\n",
    "                            isOffByThree = True\n",
    "                            binary = itertools.chain([bit1, bit2, bit3], binary)\n",
    "                            break\n",
    "                        else: # catch misencoded strings that contain special characters\n",
    "                            binary = itertools.chain([bit1, bit2, bit3], binary)\n",
    "                            searchstr += \" \"\n",
    "                    else:\n",
    "                        searchstr += chr(value + 97)\n",
    "                actionStrings[-1] += searchstr\n",
    "                bits = 3 + len(searchstr) * 5 + 8 + 3 + 12\n",
    "                for _ in range(3):\n",
    "                    binary.__next__()\n",
    "                if bits % 8 != 0:\n",
    "                    for _ in range(8 - (bits % 8)):\n",
    "                        binary.__next__()\n",
    "                currentActionType = False\n",
    "                if isOffByThree: # recovery mode from off by 3 error\n",
    "                    currentActionType = \"UNRECOGNIZED ACTION\"\n",
    "                    actionStrings += [currentActionType + \" | [\"]\n",
    "                    for _ in range(3):\n",
    "                        actionStrings[-1] += str(binary.__next__())\n",
    "                    actionStrings[-1] += \"]\"\n",
    "            else:\n",
    "                for _ in range(5):\n",
    "                    actionStrings[-1] += str(binary.__next__())\n",
    "                while not actionStrings[-1].endswith(\"0000000000\"):\n",
    "                    for _ in range(8):\n",
    "                        actionStrings[-1] += str(binary.__next__())\n",
    "                currentActionType = False\n",
    "        except StopIteration:\n",
    "            break\n",
    "    return actionStrings"
   ]
  },
  {
   "cell_type": "code",
   "execution_count": null,
   "metadata": {},
   "outputs": [],
   "source": [
    "# from ekichabi.whitelist.GetWhiteList import populate_whitelist_for_admins\n",
    "def populate_whitelist_for_admins(set):\n",
    "    # demo number for internal testing\n",
    "    set.add(standard_format('255000000000'))"
   ]
  },
  {
   "cell_type": "code",
   "execution_count": null,
   "metadata": {},
   "outputs": [],
   "source": [
    "# load whitelist\n",
    "whitelist = {}\n",
    "with open('../ekichabi-server/data/whitelist_pretty.csv', 'r') as csvfile:\n",
    "    # creating a csv reader object\n",
    "    csvreader = csv.reader(csvfile)\n",
    "\n",
    "    # ignore first row - which contains field names\n",
    "    next(csvreader)\n",
    "\n",
    "    # extracting phone number(s) out of each row\n",
    "    for row in csvreader:\n",
    "        date = datetime.strptime(row[-1], '%Y-%d-%b')\n",
    "        if date not in whitelist:\n",
    "            whitelist[date] = set()\n",
    "        if str(row[1]):\n",
    "            whitelist[date].add(standard_format(str(row[1])))  # number1\n",
    "\n",
    "print(whitelist.keys())\n",
    "totalwhitelist = set.union(*whitelist.values())\n",
    "print(len(totalwhitelist))"
   ]
  },
  {
   "cell_type": "code",
   "execution_count": null,
   "metadata": {},
   "outputs": [],
   "source": [
    "# load enumerators\n",
    "enumerators = set()\n",
    "with open('../ekichabi-server/data/Enumerator.csv', 'r') as csvfile:\n",
    "    # creating a csv reader object\n",
    "    csvreader = csv.reader(csvfile)\n",
    "\n",
    "    # ignore header\n",
    "    next(csvreader)\n",
    "\n",
    "    # extracting phone number out of each row\n",
    "    for row in csvreader:\n",
    "        enumerators.add(standard_format(str(row[2])))  # number1\n",
    "print(enumerators)"
   ]
  },
  {
   "cell_type": "code",
   "execution_count": null,
   "metadata": {},
   "outputs": [],
   "source": [
    "# load testers and admins\n",
    "testers = set()\n",
    "populate_whitelist_for_admins(testers)\n",
    "print(testers)"
   ]
  },
  {
   "cell_type": "code",
   "execution_count": null,
   "metadata": {},
   "outputs": [],
   "source": [
    "# load wakala intervention group\n",
    "wakalagroup = set()\n",
    "with open('../ekichabi-server/data/Wakala.csv', 'r') as csvfile:\n",
    "    # creating a csv reader object\n",
    "    csvreader = csv.reader(csvfile)\n",
    "\n",
    "    # extracting phone number out of each row\n",
    "    for row in csvreader:\n",
    "        wakalagroup.add(standard_format(str(row[1])))  # number1\n",
    "print(wakalagroup)"
   ]
  },
  {
   "cell_type": "code",
   "execution_count": null,
   "metadata": {},
   "outputs": [],
   "source": [
    "# load business group\n",
    "cutoffdate = datetime.strptime('2022-7-Dec', '%Y-%d-%b')\n",
    "businessgroup = set()\n",
    "with open('../ekichabi-server/data/census_data_trimmed.csv', 'r') as csvfile:\n",
    "    # creating a csv reader object\n",
    "    csvreader = csv.reader(csvfile)\n",
    "\n",
    "    # ignore first row - which contains field names\n",
    "    next(csvreader)\n",
    "\n",
    "    # extracting phone number out of each row\n",
    "    for row in csvreader:\n",
    "        businessgroup.add(standard_format(str(row[17])))  # number1\n",
    "        businessgroup.add(standard_format(str(row[18])))  # number2\n",
    "businessgroup.remove(\"\")\n",
    "len(businessgroup)"
   ]
  },
  {
   "cell_type": "code",
   "execution_count": null,
   "metadata": {},
   "outputs": [],
   "source": [
    "def wasWhitelisted(number: str, date: datetime) -> bool:\n",
    "    number = standard_format(number)\n",
    "    if number in testers or number in enumerators:\n",
    "        return False\n",
    "    if date <= cutoffdate and number in businessgroup:\n",
    "        return True\n",
    "    for d, l in whitelist.items():\n",
    "        if d > date:\n",
    "            return False\n",
    "        if number in l:\n",
    "            return True\n",
    "    return False"
   ]
  },
  {
   "cell_type": "code",
   "execution_count": null,
   "metadata": {},
   "outputs": [],
   "source": [
    "def categorizeGroup(number, time):\n",
    "    return 'non-whitelisted' if (not wasWhitelisted(number, time)) else 'wakalagroup' if number in wakalagroup else 'business' if number in businessgroup else 'household'"
   ]
  },
  {
   "cell_type": "code",
   "execution_count": null,
   "metadata": {},
   "outputs": [],
   "source": [
    "sum([1 if categorizeGroup(standard_format(str(n)), cutoffdate) == 'household' else 0 for n in totalwhitelist])"
   ]
  },
  {
   "cell_type": "code",
   "execution_count": null,
   "metadata": {},
   "outputs": [],
   "source": [
    "# load log data\n",
    "def parseLine(line: bytes) -> Tuple[datetime, str, Union[str, bool]]:\n",
    "    line = line.decode().strip()\n",
    "    columns = line.split('\\t')\n",
    "    t = datetime.strptime(columns[0], '[%H:%M:%S.%f]')\n",
    "    time = startTime + timedelta(hours=t.hour, minutes=t.minute, seconds=t.second, microseconds=t.microsecond)\n",
    "    action = columns[1]\n",
    "    details = columns[3] if len(columns) > 3 else False\n",
    "    return time, action, details\n",
    "\n",
    "def initRow(number, startTime):\n",
    "    return {'phone_number': number, 'session_start': startTime, 'session_end': pd.NaT, 'duration': pd.NaT,'inputs': \"\", \n",
    "        'group': categorizeGroup(number, startTime), \n",
    "        'businesses_visited': 0, 'businesses': [], 'searches': 0, 'filter_location': 0, 'helper_instruction': 0, 'category_browse': 0, 'location_browse': 0, 'exit': 0, 'home': 0, 'back': 0}\n",
    "\n",
    "df = pd.read_csv('logs.csv')\n",
    "\n",
    "# df = pd.DataFrame(columns=initRow('000000000', 0).keys())\n",
    "# with ZipFile('logs/ussd_2_20_2024.zip', 'r') as archive:\n",
    "#     for name in archive.namelist(): # name = [phone_number]_[Year]-[month]-[day]-[Hour].[Minute].[Second]\n",
    "#         parts = name.split('_')\n",
    "#         number = standard_format(parts[0])\n",
    "#         print(name)\n",
    "#         print(parts[1].replace('.log', ''))\n",
    "#         startTime = datetime.strptime(parts[1].replace('.log', ''), '%Y-%m-%d-%H.%M.%S')\n",
    "#         # if not wasWhitelisted(number, startTime):\n",
    "#         #     continue\n",
    "#         if number in testers or number in enumerators:\n",
    "#             continue\n",
    "#         row = initRow(number, startTime)\n",
    "#         isHome = True\n",
    "#         path = []\n",
    "#         with archive.open(name) as file:\n",
    "#             file.readline() # ignore session info\n",
    "#             line = file.readline() # ignore column headers\n",
    "#             # line = file.readline() # ignore first home screen\n",
    "\n",
    "#             def handleReadLine():\n",
    "#                 global line\n",
    "#                 global row\n",
    "#                 global isHome\n",
    "#                 global path\n",
    "#                 line = file.readline()\n",
    "#                 if not line:\n",
    "#                     return \"\", \"\", \"\"\n",
    "#                 time, action, details = parseLine(line)\n",
    "#                 row['session_end'] = time\n",
    "#                 row['duration'] = time - startTime\n",
    "#                 if action == 'INPUT RECEIVED':\n",
    "#                     row['inputs'] += (\",\" if len(row['inputs']) != 0 else \"\") + details.strip(\"'\")\n",
    "#                 elif action == 'RENDERED SCREEN' and details == 'SearchSelectorScreen':\n",
    "#                     row['searches'] += 1\n",
    "#                 elif action == 'RENDERED SCREEN' and details == 'IfFilterBYLocationScreen':\n",
    "#                     row['filter_location'] += 1\n",
    "#                 elif action == 'RENDERED SCREEN' and details == 'HelpScreen':\n",
    "#                     row['helper_instruction'] += 1\n",
    "#                 elif isHome and action == 'RENDERED SCREEN' and details == 'MenuHierarchyScreen - selecting a category':\n",
    "#                     row['category_browse'] += 1\n",
    "#                 elif isHome and action == 'RENDERED SCREEN' and details == 'MenuHierarchyScreen - selecting a district':\n",
    "#                     row['category_browse'] += 1\n",
    "#                 elif action == 'RENDERED SCREEN' and details and details.startswith('BusinessDetailsScreen'):\n",
    "#                     row['businesses_visited'] += 1\n",
    "#                     duration = pd.NaT\n",
    "#                     next_line = file.peek()\n",
    "#                     if next_line:\n",
    "#                         next_time, _, _ = parseLine(next_line)\n",
    "#                         duration = next_time - time\n",
    "#                     business = {'id': details.split(' - for ')[1], 'duration': duration,'path': copy.copy(path)}\n",
    "#                     row['businesses'].append(business)\n",
    "#                 if action == 'RENDERED SCREEN':\n",
    "#                     path.append(details)\n",
    "#                     isHome = False\n",
    "#                 return time, action, details\n",
    "\n",
    "#             while line:\n",
    "#                 time, action, details = handleReadLine()\n",
    "#                 if not line: break\n",
    "#                 if action == 'BACK PRESSED': # BACK PRESSED + RENDERED SCREEN (back button -- 99)\n",
    "#                     row['back'] += 1\n",
    "#                     _, _, details = handleReadLine()\n",
    "#                     isHome = details == 'HomeScreen'\n",
    "#                     if isHome:\n",
    "#                         path = []\n",
    "#                 elif action == 'HOME PRESSED': # HOME PRESSED + RENDERED SCREEN (home button -- 100)\n",
    "#                     row['home'] += 1\n",
    "#                     handleReadLine()\n",
    "#                     isHome = True\n",
    "#                     path = []\n",
    "#                 elif action == 'EXIT PRESSED': # EXIT PRESSED + RENDERED SCREEN (session end button -- 109)\n",
    "#                     row['exit'] += 1\n",
    "#                     handleReadLine()\n",
    "#         df = pd.concat([df, pd.DataFrame(row.values(), index=row.keys()).T], ignore_index=True)\n",
    "#         # break\n",
    "\n",
    "#     print(len(archive.namelist()))\n",
    "pd.set_option('display.max_colwidth', None)\n",
    "df.head()"
   ]
  },
  {
   "cell_type": "code",
   "execution_count": null,
   "metadata": {},
   "outputs": [],
   "source": [
    "df.to_csv('logs2_20_2024.csv')"
   ]
  },
  {
   "cell_type": "code",
   "execution_count": null,
   "metadata": {},
   "outputs": [],
   "source": [
    "df.info()"
   ]
  },
  {
   "cell_type": "code",
   "execution_count": null,
   "metadata": {},
   "outputs": [],
   "source": [
    "df[df['session_start'] >= datetime.strptime('2024-01-01', '%Y-%m-%d')]['group'].value_counts()"
   ]
  },
  {
   "attachments": {},
   "cell_type": "markdown",
   "metadata": {},
   "source": [
    "# Data Viz Utils"
   ]
  },
  {
   "cell_type": "code",
   "execution_count": null,
   "metadata": {},
   "outputs": [],
   "source": [
    "def hist(df, cat = 'wakala_frequency', labels = {1: '1 time or less', 2: '2-5 times', 3:'5+ times'}):\n",
    "    val = 'percentage'\n",
    "    temp = pd.DataFrame({cat:[labels[v] for v in df[cat].value_counts().keys()], val:df[cat].value_counts()})\n",
    "    temp[val] = temp[val].apply(lambda x: (x/temp[val].sum())*100)\n",
    "    labels = temp[val].round(1).astype('str') + '%'\n",
    "    ax = temp.plot.bar(x=cat, y=val, rot=30)\n",
    "    for container in ax.containers:\n",
    "        ax.bar_label(container, labels=labels)\n",
    "        ax.yaxis.set_major_formatter(mtick.PercentFormatter())"
   ]
  },
  {
   "attachments": {},
   "cell_type": "markdown",
   "metadata": {},
   "source": [
    "# Analysis"
   ]
  },
  {
   "cell_type": "code",
   "execution_count": null,
   "metadata": {},
   "outputs": [],
   "source": [
    "df_survey.value_counts('comfort_with_ussd')"
   ]
  },
  {
   "cell_type": "code",
   "execution_count": null,
   "metadata": {},
   "outputs": [],
   "source": [
    "hist(df_survey, cat='comfort_with_ussd', labels = {\n",
    "    'Very Comfortable--I can use USSD without help from anyone': '1. Very Comfortable', \n",
    "    'Somewhat comfortable--I may ask for help sometimes': '2. Somewhat Comfortable', \n",
    "    'Not very comfortable--I need help over 50% of the time': '3. Not comfortable', \n",
    "    'Uncomfortable--I always ask someone else to navigate the menus on my behalf': '4. Uncomfortable'\n",
    "    })"
   ]
  },
  {
   "cell_type": "code",
   "execution_count": null,
   "metadata": {},
   "outputs": [],
   "source": [
    "df_survey['group'] = df_survey.apply(lambda n: categorizeGroup(standard_format(str(n['phone_number'])), cutoffdate), axis = 1)"
   ]
  },
  {
   "cell_type": "code",
   "execution_count": null,
   "metadata": {},
   "outputs": [],
   "source": [
    "df_survey.groupby(['comfort_with_ussd', 'group'])['comfort_with_ussd'].count().unstack('group').fillna(0)"
   ]
  },
  {
   "cell_type": "code",
   "execution_count": null,
   "metadata": {},
   "outputs": [],
   "source": [
    "df2 = df_survey.groupby(['comfort_with_ussd', 'group'])['comfort_with_ussd'].count().unstack('group').fillna(0)\n",
    "df2[df_survey['group'].unique()].plot(kind='bar', stacked=True)"
   ]
  },
  {
   "cell_type": "code",
   "execution_count": null,
   "metadata": {},
   "outputs": [],
   "source": [
    "df_survey['phone_number'].count()"
   ]
  },
  {
   "cell_type": "code",
   "execution_count": null,
   "metadata": {},
   "outputs": [],
   "source": [
    "df_survey['phone_number'].nunique()"
   ]
  },
  {
   "cell_type": "code",
   "execution_count": null,
   "metadata": {},
   "outputs": [],
   "source": [
    "df_whitelisted = df[df['group'] != 'non-whitelisted']"
   ]
  },
  {
   "cell_type": "code",
   "execution_count": null,
   "metadata": {},
   "outputs": [],
   "source": [
    "def categorize1vs1234(number):\n",
    "    try:\n",
    "        number = standard_format(str(int(number)))\n",
    "        labels = {\n",
    "            'Very Comfortable--I can use USSD without help from anyone': 1, \n",
    "            'Somewhat comfortable--I may ask for help sometimes': 2, \n",
    "            'Not very comfortable--I need help over 50% of the time': 3, \n",
    "            'Uncomfortable--I always ask someone else to navigate the menus on my behalf': 4\n",
    "        }\n",
    "        match = df_survey[df_survey['phone_number'].apply(lambda n: str(standard_format(str(n)))) == number]['comfort_with_ussd']\n",
    "        return labels[list(match)[0] if isinstance(match, pd.Series) else match] \n",
    "    except:\n",
    "        return -1"
   ]
  },
  {
   "cell_type": "code",
   "execution_count": null,
   "metadata": {},
   "outputs": [],
   "source": [
    "df_whitelisted['1vs234'] = df_whitelisted.apply(lambda n: categorize1vs1234(n['phone_number']), axis = 1)"
   ]
  },
  {
   "cell_type": "code",
   "execution_count": null,
   "metadata": {},
   "outputs": [],
   "source": [
    "df_whitelisted['1vs234'].value_counts()"
   ]
  },
  {
   "cell_type": "code",
   "execution_count": null,
   "metadata": {},
   "outputs": [],
   "source": [
    "hist(df_whitelisted, '1vs234', {-1: 'Not in Survey', 1: '1. Very Comfortable', 2: '2. Somewhat Comfortable', 3: '3. Not comfortable', 4: '4. Uncomfortable'})"
   ]
  },
  {
   "cell_type": "code",
   "execution_count": null,
   "metadata": {},
   "outputs": [],
   "source": [
    "df_whitelisted[df_whitelisted['1vs234'] == -1]['group'].value_counts()"
   ]
  },
  {
   "cell_type": "code",
   "execution_count": null,
   "metadata": {},
   "outputs": [],
   "source": [
    "df2 = df_whitelisted.groupby(['1vs234', 'group'])['1vs234'].count().unstack('group').fillna(0)\n",
    "df2[df_whitelisted['group'].unique()].rename({-1: 'Not in Survey', 1: '1. Very Comfortable', 2: '2. Somewhat Comfortable', 3: '3. Not comfortable', 4: '4. Uncomfortable'}).plot(kind='bar', stacked=True)"
   ]
  },
  {
   "cell_type": "code",
   "execution_count": null,
   "metadata": {},
   "outputs": [],
   "source": [
    "control234 = df_survey[(df_survey['comfort_with_ussd'] != 'Very Comfortable--I can use USSD without help from anyone') & (df_survey['group'] == 'household') & (~pd.isna(df_survey['comfort_with_ussd']))]"
   ]
  },
  {
   "cell_type": "code",
   "execution_count": null,
   "metadata": {},
   "outputs": [],
   "source": [
    "df_234 = df_whitelisted[df_whitelisted['phone_number'].isin(control234['phone_number'])]\n",
    "df_234.info()"
   ]
  },
  {
   "cell_type": "code",
   "execution_count": null,
   "metadata": {},
   "outputs": [],
   "source": [
    "df_234['phone_number'].nunique()"
   ]
  },
  {
   "cell_type": "code",
   "execution_count": null,
   "metadata": {},
   "outputs": [],
   "source": [
    "df_234['group'] = '234'"
   ]
  },
  {
   "cell_type": "code",
   "execution_count": null,
   "metadata": {},
   "outputs": [],
   "source": [
    "control1 = df_survey[(df_survey['comfort_with_ussd'] == 'Very Comfortable--I can use USSD without help from anyone') & (df_survey['group'] == 'household') & (~pd.isna(df_survey['comfort_with_ussd']))]"
   ]
  },
  {
   "cell_type": "code",
   "execution_count": null,
   "metadata": {},
   "outputs": [],
   "source": [
    "df_1 = df_whitelisted[df_whitelisted['phone_number'].isin(control1['phone_number'])]\n",
    "df_1.info()"
   ]
  },
  {
   "cell_type": "code",
   "execution_count": null,
   "metadata": {},
   "outputs": [],
   "source": [
    "df_1['phone_number'].nunique()"
   ]
  },
  {
   "cell_type": "code",
   "execution_count": null,
   "metadata": {},
   "outputs": [],
   "source": [
    "df_1['group'] = '1'"
   ]
  },
  {
   "cell_type": "code",
   "execution_count": null,
   "metadata": {},
   "outputs": [],
   "source": [
    "df_comb = pd.concat([df_1, df_234]).drop('Unnamed: 0.1', axis=1).drop('Unnamed: 0', axis=1)\n",
    "df_comb"
   ]
  },
  {
   "cell_type": "code",
   "execution_count": null,
   "metadata": {},
   "outputs": [],
   "source": [
    "def label_function(val):\n",
    "    return f'{val:.0f}\\n{val / len(df) * 100:.0f}%'"
   ]
  },
  {
   "cell_type": "code",
   "execution_count": null,
   "metadata": {},
   "outputs": [],
   "source": [
    "groups = df_comb.groupby('group')['phone_number'].nunique()\n",
    "patches, texts = plt.pie(groups, textprops={'fontsize': 20}, colors=['tomato', 'gold', 'skyblue'])\n",
    "labels = [group + \"-\" + label_function(val) for val, group in zip(groups, ['1. Comfortable', '234. Uncormfortable'])]\n",
    "plt.legend(patches, labels, loc='center left', bbox_to_anchor=(-0.1, 1.), fontsize=8)\n",
    "plt.title(\"Distribution of numbers\")"
   ]
  },
  {
   "cell_type": "code",
   "execution_count": null,
   "metadata": {},
   "outputs": [],
   "source": [
    "groups = df_comb.groupby('group').size()\n",
    "patches, texts = plt.pie(groups, textprops={'fontsize': 20}, colors=['tomato', 'gold', 'skyblue'])\n",
    "labels = [group + \"-\" + label_function(val) for val, group in zip(groups, ['1. Comfortable', '234. Uncormfortable'])]\n",
    "plt.legend(patches, labels, loc='center left', bbox_to_anchor=(-0.1, 1.), fontsize=8)\n",
    "plt.title(\"Distribution of sessions\")"
   ]
  },
  {
   "cell_type": "code",
   "execution_count": null,
   "metadata": {},
   "outputs": [],
   "source": [
    "groups = df_comb.groupby('group').size() / df_comb.groupby('group')['phone_number'].nunique()\n",
    "patches, texts = plt.pie(groups, textprops={'fontsize': 20}, colors=['tomato', 'gold', 'skyblue'])\n",
    "labels = [group + \"-\" + label_function(val) for val, group in zip(groups, ['1. Comfortable', '234. Uncormfortable'])]\n",
    "plt.legend(patches, labels, loc='center left', bbox_to_anchor=(-0.1, 1.), fontsize=8)\n",
    "plt.title(\"Distribution of Sessions/Number\")"
   ]
  },
  {
   "cell_type": "code",
   "execution_count": null,
   "metadata": {},
   "outputs": [],
   "source": [
    "df_survey['comfort_with_ussd'].value_counts()"
   ]
  },
  {
   "cell_type": "code",
   "execution_count": null,
   "metadata": {},
   "outputs": [],
   "source": [
    "groups = df_comb.groupby('group').size() / np.array([319, 371])\n",
    "patches, texts = plt.pie(groups, textprops={'fontsize': 20}, colors=['tomato', 'gold', 'skyblue'])\n",
    "labels = [group + \"-\" + label_function(val) for val, group in zip(groups, ['1. Comfortable', '234. Uncormfortable'])]\n",
    "plt.legend(patches, labels, loc='center left', bbox_to_anchor=(-0.1, 1.), fontsize=8)\n",
    "plt.title(\"Distribution of Sessions/Number\")"
   ]
  },
  {
   "cell_type": "code",
   "execution_count": null,
   "metadata": {},
   "outputs": [],
   "source": [
    "(df_comb.groupby(['group', 'searches']).size() / df_comb.groupby('group').size()).unstack().plot(kind='bar', stacked=True)"
   ]
  },
  {
   "cell_type": "code",
   "execution_count": null,
   "metadata": {},
   "outputs": [],
   "source": [
    "(df_comb.groupby(['group', 'businesses_visited']).size() / df_comb.groupby('group').size()).unstack().plot(kind='bar', stacked=True)"
   ]
  },
  {
   "cell_type": "code",
   "execution_count": null,
   "metadata": {},
   "outputs": [],
   "source": [
    "(df_comb.groupby(['group', 'category_browse']).size() / df_comb.groupby('group').size()).unstack().plot(kind='bar', stacked=True)"
   ]
  },
  {
   "cell_type": "code",
   "execution_count": null,
   "metadata": {},
   "outputs": [],
   "source": [
    "(df_comb.groupby(['group', 'location_browse']).size() / df_comb.groupby('group').size()).unstack().plot(kind='bar', stacked=True)"
   ]
  },
  {
   "cell_type": "code",
   "execution_count": null,
   "metadata": {},
   "outputs": [],
   "source": [
    "(df_comb.groupby(['group', 'back']).size() / df_comb.groupby('group').size()).unstack().plot(kind='bar', stacked=True)"
   ]
  },
  {
   "cell_type": "code",
   "execution_count": null,
   "metadata": {},
   "outputs": [],
   "source": [
    "(df_comb.groupby(['group', 'exit']).size() / df_comb.groupby('group').size()).unstack().plot(kind='bar', stacked=True)"
   ]
  },
  {
   "cell_type": "code",
   "execution_count": null,
   "metadata": {},
   "outputs": [],
   "source": [
    "(df_comb.groupby(['group', 'home']).size() / df_comb.groupby('group').size()).unstack().plot(kind='bar', stacked=True)"
   ]
  },
  {
   "cell_type": "code",
   "execution_count": null,
   "metadata": {},
   "outputs": [],
   "source": [
    "(df_comb.groupby(['group', 'filter_location']).size() / df_comb.groupby('group').size()).unstack().plot(kind='bar', stacked=True)"
   ]
  },
  {
   "cell_type": "code",
   "execution_count": null,
   "metadata": {},
   "outputs": [],
   "source": [
    "df_comb['session_start'] = pd.to_datetime(df_comb['session_start'])\n",
    "df_comb['session_end'] = pd.to_datetime(df_comb['session_end'])\n",
    "df_comb['duration'] = df_comb['session_end'] - df_comb['session_start']\n",
    "df_comb['duration'] = df_comb['duration'].astype('timedelta64[s]')\n",
    "fig, ax = plt.subplots(figsize=(8,5))\n",
    "for label, df1 in df_comb.groupby('group'):\n",
    "     df1.duration.plot(kind=\"kde\", ax=ax, label=label)\n",
    "ax.set_xlabel(\"Session Duration (seconds)\")\n",
    "ax.set_xlim(0, 800)\n",
    "ax.legend(loc=\"upper left\")"
   ]
  },
  {
   "cell_type": "code",
   "execution_count": null,
   "metadata": {},
   "outputs": [],
   "source": [
    "df_comb['time_after'] = (df_comb['session_start'] - datetime(2022,11,1,0,0)) / np.timedelta64(1,'D')\n",
    "fig, ax = plt.subplots(figsize=(8,5))\n",
    "for label, df1 in df_comb.groupby('group'):\n",
    "     df1.time_after.plot(kind=\"kde\", ax=ax, label=label)\n",
    "ax.set_xlabel(\"Session start date after November 1st\")\n",
    "ax.set_xlim(0, 290)\n",
    "ax.legend(loc=\"upper left\")"
   ]
  }
 ],
 "metadata": {
  "kernelspec": {
   "display_name": "python3",
   "language": "python",
   "name": "python3"
  },
  "language_info": {
   "codemirror_mode": {
    "name": "ipython",
    "version": 3
   },
   "file_extension": ".py",
   "mimetype": "text/x-python",
   "name": "python",
   "nbconvert_exporter": "python",
   "pygments_lexer": "ipython3",
   "version": "3.0.0"
  },
  "orig_nbformat": 4
 },
 "nbformat": 4,
 "nbformat_minor": 2
}
